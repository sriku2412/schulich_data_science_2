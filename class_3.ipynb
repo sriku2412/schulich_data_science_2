{
 "cells": [
  {
   "cell_type": "code",
   "execution_count": 59,
   "metadata": {},
   "outputs": [],
   "source": [
    "import numpy as np\n",
    "import pandas as pd\n",
    "import matplotlib as mp\n",
    "import statsmodels.api as sm"
   ]
  },
  {
   "cell_type": "code",
   "execution_count": 60,
   "metadata": {},
   "outputs": [],
   "source": [
    "mu, sigma = 0, 5 # mean and standard deviation of normal distribution for the error term\n",
    "x = np.random.uniform(40,80,100)\n",
    "epsilon = np.random.normal(mu,sigma,100)\n",
    "y = 3 + 4*x + epsilon"
   ]
  },
  {
   "cell_type": "code",
   "execution_count": 61,
   "metadata": {},
   "outputs": [
    {
     "name": "stdout",
     "output_type": "stream",
     "text": [
      "[77.6182574  40.26473892 60.41156027 76.69460184 64.46423867 65.59307309\n",
      " 53.60729772 49.94322217 60.73884488 60.51974282 63.27082698 75.29788043\n",
      " 59.08817477 75.97734943 56.6335725  42.49674057 50.97742545 54.30801781\n",
      " 72.60331686 71.66392777 51.72186497 77.97452999 50.48125854 55.66993059\n",
      " 76.84655156 71.51678429 73.84367648 59.34893694 45.77584556 69.8452485\n",
      " 78.79410553 46.90244009 61.54017854 57.24288079 67.67614476 78.24530063\n",
      " 75.52020191 62.57735223 77.82970796 74.95348243 53.67366481 65.53964865\n",
      " 46.98602778 58.3503199  77.24335285 46.69065535 51.3594411  62.18125826\n",
      " 74.69473322 71.20794623 56.12395008 67.59117635 40.92473412 40.73824255\n",
      " 77.76235891 77.61596942 45.51723699 73.5334613  69.1760267  44.53797651\n",
      " 72.39369246 61.68213272 74.28418247 41.85528517 72.31586232 61.49723449\n",
      " 62.65629567 62.21204812 41.12647586 55.61427816 43.30066932 43.07281819\n",
      " 56.76620474 67.08922416 43.99677969 51.71720945 56.98694241 79.2365934\n",
      " 51.54657369 77.4255672  43.4885825  62.6340634  47.44835761 57.18672566\n",
      " 53.41544644 53.95940541 50.10338481 48.84950107 48.34677274 57.34373462\n",
      " 55.69803766 49.09032866 40.603159   75.8624849  72.1819106  51.91034447\n",
      " 42.27822818 62.99359438 74.5696687  42.03836307]\n"
     ]
    }
   ],
   "source": [
    "print(x)"
   ]
  },
  {
   "cell_type": "code",
   "execution_count": 62,
   "metadata": {},
   "outputs": [
    {
     "name": "stderr",
     "output_type": "stream",
     "text": [
      "C:\\Users\\srika\\AppData\\Local\\Packages\\PythonSoftwareFoundation.Python.3.11_qbz5n2kfra8p0\\LocalCache\\local-packages\\Python311\\site-packages\\seaborn\\_oldcore.py:1498: FutureWarning: is_categorical_dtype is deprecated and will be removed in a future version. Use isinstance(dtype, CategoricalDtype) instead\n",
      "  if pd.api.types.is_categorical_dtype(vector):\n",
      "C:\\Users\\srika\\AppData\\Local\\Packages\\PythonSoftwareFoundation.Python.3.11_qbz5n2kfra8p0\\LocalCache\\local-packages\\Python311\\site-packages\\seaborn\\_oldcore.py:1119: FutureWarning: use_inf_as_na option is deprecated and will be removed in a future version. Convert inf values to NaN before operating instead.\n",
      "  with pd.option_context('mode.use_inf_as_na', True):\n"
     ]
    },
    {
     "data": {
      "text/plain": [
       "<Axes: ylabel='Count'>"
      ]
     },
     "execution_count": 62,
     "metadata": {},
     "output_type": "execute_result"
    },
    {
     "data": {
      "image/png": "[encoded data removed]",
      "text/plain": [
       "<Figure size 640x480 with 1 Axes>"
      ]
     },
     "metadata": {},
     "output_type": "display_data"
    }
   ],
   "source": [
    "import seaborn as sns \n",
    "sns.histplot(x,bins=20)"
   ]
  },
  {
   "cell_type": "code",
   "execution_count": 63,
   "metadata": {},
   "outputs": [
    {
     "data": {
      "text/plain": [
       "<Axes: >"
      ]
     },
     "execution_count": 63,
     "metadata": {},
     "output_type": "execute_result"
    },
    {
     "data": {
      "image/png": "[encoded data removed]",
      "text/plain": [
       "<Figure size 640x480 with 1 Axes>"
      ]
     },
     "metadata": {},
     "output_type": "display_data"
    }
   ],
   "source": [
    "sns.boxplot(x)"
   ]
  },
  {
   "cell_type": "code",
   "execution_count": 64,
   "metadata": {},
   "outputs": [
    {
     "data": {
      "text/html": [
       "<table class=\"simpletable\">\n",
       "<caption>OLS Regression Results</caption>\n",
       "<tr>\n",
       "  <th>Dep. Variable:</th>            <td>y</td>        <th>  R-squared (uncentered):</th>      <td>   1.000</td> \n",
       "</tr>\n",
       "<tr>\n",
       "  <th>Model:</th>                   <td>OLS</td>       <th>  Adj. R-squared (uncentered):</th> <td>   1.000</td> \n",
       "</tr>\n",
       "<tr>\n",
       "  <th>Method:</th>             <td>Least Squares</td>  <th>  F-statistic:       </th>          <td>2.140e+05</td>\n",
       "</tr>\n",
       "<tr>\n",
       "  <th>Date:</th>             <td>Mon, 25 Sep 2023</td> <th>  Prob (F-statistic):</th>          <td>6.59e-167</td>\n",
       "</tr>\n",
       "<tr>\n",
       "  <th>Time:</th>                 <td>21:15:47</td>     <th>  Log-Likelihood:    </th>          <td> -309.30</td> \n",
       "</tr>\n",
       "<tr>\n",
       "  <th>No. Observations:</th>      <td>   100</td>      <th>  AIC:               </th>          <td>   620.6</td> \n",
       "</tr>\n",
       "<tr>\n",
       "  <th>Df Residuals:</th>          <td>    99</td>      <th>  BIC:               </th>          <td>   623.2</td> \n",
       "</tr>\n",
       "<tr>\n",
       "  <th>Df Model:</th>              <td>     1</td>      <th>                     </th>              <td> </td>    \n",
       "</tr>\n",
       "<tr>\n",
       "  <th>Covariance Type:</th>      <td>nonrobust</td>    <th>                     </th>              <td> </td>    \n",
       "</tr>\n",
       "</table>\n",
       "<table class=\"simpletable\">\n",
       "<tr>\n",
       "   <td></td>     <th>coef</th>     <th>std err</th>      <th>t</th>      <th>P>|t|</th>  <th>[0.025</th>    <th>0.975]</th>  \n",
       "</tr>\n",
       "<tr>\n",
       "  <th>x1</th> <td>    4.0430</td> <td>    0.009</td> <td>  462.629</td> <td> 0.000</td> <td>    4.026</td> <td>    4.060</td>\n",
       "</tr>\n",
       "</table>\n",
       "<table class=\"simpletable\">\n",
       "<tr>\n",
       "  <th>Omnibus:</th>       <td> 1.082</td> <th>  Durbin-Watson:     </th> <td>   1.836</td>\n",
       "</tr>\n",
       "<tr>\n",
       "  <th>Prob(Omnibus):</th> <td> 0.582</td> <th>  Jarque-Bera (JB):  </th> <td>   1.009</td>\n",
       "</tr>\n",
       "<tr>\n",
       "  <th>Skew:</th>          <td> 0.241</td> <th>  Prob(JB):          </th> <td>   0.604</td>\n",
       "</tr>\n",
       "<tr>\n",
       "  <th>Kurtosis:</th>      <td> 2.902</td> <th>  Cond. No.          </th> <td>    1.00</td>\n",
       "</tr>\n",
       "</table><br/><br/>Notes:<br/>[1] R² is computed without centering (uncentered) since the model does not contain a constant.<br/>[2] Standard Errors assume that the covariance matrix of the errors is correctly specified."
      ],
      "text/latex": [
       "\\begin{center}\n",
       "\\begin{tabular}{lclc}\n",
       "\\toprule\n",
       "\\textbf{Dep. Variable:}    &        y         & \\textbf{  R-squared (uncentered):}      &     1.000   \\\\\n",
       "\\textbf{Model:}            &       OLS        & \\textbf{  Adj. R-squared (uncentered):} &     1.000   \\\\\n",
       "\\textbf{Method:}           &  Least Squares   & \\textbf{  F-statistic:       }          & 2.140e+05   \\\\\n",
       "\\textbf{Date:}             & Mon, 25 Sep 2023 & \\textbf{  Prob (F-statistic):}          & 6.59e-167   \\\\\n",
       "\\textbf{Time:}             &     21:15:47     & \\textbf{  Log-Likelihood:    }          &   -309.30   \\\\\n",
       "\\textbf{No. Observations:} &         100      & \\textbf{  AIC:               }          &     620.6   \\\\\n",
       "\\textbf{Df Residuals:}     &          99      & \\textbf{  BIC:               }          &     623.2   \\\\\n",
       "\\textbf{Df Model:}         &           1      & \\textbf{                     }          &             \\\\\n",
       "\\textbf{Covariance Type:}  &    nonrobust     & \\textbf{                     }          &             \\\\\n",
       "\\bottomrule\n",
       "\\end{tabular}\n",
       "\\begin{tabular}{lcccccc}\n",
       "            & \\textbf{coef} & \\textbf{std err} & \\textbf{t} & \\textbf{P$> |$t$|$} & \\textbf{[0.025} & \\textbf{0.975]}  \\\\\n",
       "\\midrule\n",
       "\\textbf{x1} &       4.0430  &        0.009     &   462.629  &         0.000        &        4.026    &        4.060     \\\\\n",
       "\\bottomrule\n",
       "\\end{tabular}\n",
       "\\begin{tabular}{lclc}\n",
       "\\textbf{Omnibus:}       &  1.082 & \\textbf{  Durbin-Watson:     } &    1.836  \\\\\n",
       "\\textbf{Prob(Omnibus):} &  0.582 & \\textbf{  Jarque-Bera (JB):  } &    1.009  \\\\\n",
       "\\textbf{Skew:}          &  0.241 & \\textbf{  Prob(JB):          } &    0.604  \\\\\n",
       "\\textbf{Kurtosis:}      &  2.902 & \\textbf{  Cond. No.          } &     1.00  \\\\\n",
       "\\bottomrule\n",
       "\\end{tabular}\n",
       "%\\caption{OLS Regression Results}\n",
       "\\end{center}\n",
       "\n",
       "Notes: \\newline\n",
       " [1] R² is computed without centering (uncentered) since the model does not contain a constant. \\newline\n",
       " [2] Standard Errors assume that the covariance matrix of the errors is correctly specified."
      ],
      "text/plain": [
       "<class 'statsmodels.iolib.summary.Summary'>\n",
       "\"\"\"\n",
       "                                 OLS Regression Results                                \n",
       "=======================================================================================\n",
       "Dep. Variable:                      y   R-squared (uncentered):                   1.000\n",
       "Model:                            OLS   Adj. R-squared (uncentered):              1.000\n",
       "Method:                 Least Squares   F-statistic:                          2.140e+05\n",
       "Date:                Mon, 25 Sep 2023   Prob (F-statistic):                   6.59e-167\n",
       "Time:                        21:15:47   Log-Likelihood:                         -309.30\n",
       "No. Observations:                 100   AIC:                                      620.6\n",
       "Df Residuals:                      99   BIC:                                      623.2\n",
       "Df Model:                           1                                                  \n",
       "Covariance Type:            nonrobust                                                  \n",
       "==============================================================================\n",
       "                 coef    std err          t      P>|t|      [0.025      0.975]\n",
       "------------------------------------------------------------------------------\n",
       "x1             4.0430      0.009    462.629      0.000       4.026       4.060\n",
       "==============================================================================\n",
       "Omnibus:                        1.082   Durbin-Watson:                   1.836\n",
       "Prob(Omnibus):                  0.582   Jarque-Bera (JB):                1.009\n",
       "Skew:                           0.241   Prob(JB):                        0.604\n",
       "Kurtosis:                       2.902   Cond. No.                         1.00\n",
       "==============================================================================\n",
       "\n",
       "Notes:\n",
       "[1] R² is computed without centering (uncentered) since the model does not contain a constant.\n",
       "[2] Standard Errors assume that the covariance matrix of the errors is correctly specified.\n",
       "\"\"\""
      ]
     },
     "execution_count": 64,
     "metadata": {},
     "output_type": "execute_result"
    }
   ],
   "source": [
    "model_reg = sm.OLS(y,x).fit()\n",
    "model_reg.summary()"
   ]
  },
  {
   "cell_type": "markdown",
   "metadata": {},
   "source": [
    "there is no inercept. so we add a constant."
   ]
  },
  {
   "cell_type": "code",
   "execution_count": 65,
   "metadata": {},
   "outputs": [
    {
     "data": {
      "text/html": [
       "<table class=\"simpletable\">\n",
       "<caption>OLS Regression Results</caption>\n",
       "<tr>\n",
       "  <th>Dep. Variable:</th>            <td>y</td>        <th>  R-squared:         </th> <td>   0.988</td>\n",
       "</tr>\n",
       "<tr>\n",
       "  <th>Model:</th>                   <td>OLS</td>       <th>  Adj. R-squared:    </th> <td>   0.988</td>\n",
       "</tr>\n",
       "<tr>\n",
       "  <th>Method:</th>             <td>Least Squares</td>  <th>  F-statistic:       </th> <td>   8148.</td>\n",
       "</tr>\n",
       "<tr>\n",
       "  <th>Date:</th>             <td>Mon, 25 Sep 2023</td> <th>  Prob (F-statistic):</th> <td>3.81e-96</td>\n",
       "</tr>\n",
       "<tr>\n",
       "  <th>Time:</th>                 <td>21:15:47</td>     <th>  Log-Likelihood:    </th> <td> -309.30</td>\n",
       "</tr>\n",
       "<tr>\n",
       "  <th>No. Observations:</th>      <td>   100</td>      <th>  AIC:               </th> <td>   622.6</td>\n",
       "</tr>\n",
       "<tr>\n",
       "  <th>Df Residuals:</th>          <td>    98</td>      <th>  BIC:               </th> <td>   627.8</td>\n",
       "</tr>\n",
       "<tr>\n",
       "  <th>Df Model:</th>              <td>     1</td>      <th>                     </th>     <td> </td>   \n",
       "</tr>\n",
       "<tr>\n",
       "  <th>Covariance Type:</th>      <td>nonrobust</td>    <th>                     </th>     <td> </td>   \n",
       "</tr>\n",
       "</table>\n",
       "<table class=\"simpletable\">\n",
       "<tr>\n",
       "    <td></td>       <th>coef</th>     <th>std err</th>      <th>t</th>      <th>P>|t|</th>  <th>[0.025</th>    <th>0.975]</th>  \n",
       "</tr>\n",
       "<tr>\n",
       "  <th>const</th> <td>    0.0255</td> <td>    2.747</td> <td>    0.009</td> <td> 0.993</td> <td>   -5.426</td> <td>    5.477</td>\n",
       "</tr>\n",
       "<tr>\n",
       "  <th>x1</th>    <td>    4.0426</td> <td>    0.045</td> <td>   90.268</td> <td> 0.000</td> <td>    3.954</td> <td>    4.131</td>\n",
       "</tr>\n",
       "</table>\n",
       "<table class=\"simpletable\">\n",
       "<tr>\n",
       "  <th>Omnibus:</th>       <td> 1.085</td> <th>  Durbin-Watson:     </th> <td>   1.836</td>\n",
       "</tr>\n",
       "<tr>\n",
       "  <th>Prob(Omnibus):</th> <td> 0.581</td> <th>  Jarque-Bera (JB):  </th> <td>   1.012</td>\n",
       "</tr>\n",
       "<tr>\n",
       "  <th>Skew:</th>          <td> 0.242</td> <th>  Prob(JB):          </th> <td>   0.603</td>\n",
       "</tr>\n",
       "<tr>\n",
       "  <th>Kurtosis:</th>      <td> 2.902</td> <th>  Cond. No.          </th> <td>    313.</td>\n",
       "</tr>\n",
       "</table><br/><br/>Notes:<br/>[1] Standard Errors assume that the covariance matrix of the errors is correctly specified."
      ],
      "text/latex": [
       "\\begin{center}\n",
       "\\begin{tabular}{lclc}\n",
       "\\toprule\n",
       "\\textbf{Dep. Variable:}    &        y         & \\textbf{  R-squared:         } &     0.988   \\\\\n",
       "\\textbf{Model:}            &       OLS        & \\textbf{  Adj. R-squared:    } &     0.988   \\\\\n",
       "\\textbf{Method:}           &  Least Squares   & \\textbf{  F-statistic:       } &     8148.   \\\\\n",
       "\\textbf{Date:}             & Mon, 25 Sep 2023 & \\textbf{  Prob (F-statistic):} &  3.81e-96   \\\\\n",
       "\\textbf{Time:}             &     21:15:47     & \\textbf{  Log-Likelihood:    } &   -309.30   \\\\\n",
       "\\textbf{No. Observations:} &         100      & \\textbf{  AIC:               } &     622.6   \\\\\n",
       "\\textbf{Df Residuals:}     &          98      & \\textbf{  BIC:               } &     627.8   \\\\\n",
       "\\textbf{Df Model:}         &           1      & \\textbf{                     } &             \\\\\n",
       "\\textbf{Covariance Type:}  &    nonrobust     & \\textbf{                     } &             \\\\\n",
       "\\bottomrule\n",
       "\\end{tabular}\n",
       "\\begin{tabular}{lcccccc}\n",
       "               & \\textbf{coef} & \\textbf{std err} & \\textbf{t} & \\textbf{P$> |$t$|$} & \\textbf{[0.025} & \\textbf{0.975]}  \\\\\n",
       "\\midrule\n",
       "\\textbf{const} &       0.0255  &        2.747     &     0.009  &         0.993        &       -5.426    &        5.477     \\\\\n",
       "\\textbf{x1}    &       4.0426  &        0.045     &    90.268  &         0.000        &        3.954    &        4.131     \\\\\n",
       "\\bottomrule\n",
       "\\end{tabular}\n",
       "\\begin{tabular}{lclc}\n",
       "\\textbf{Omnibus:}       &  1.085 & \\textbf{  Durbin-Watson:     } &    1.836  \\\\\n",
       "\\textbf{Prob(Omnibus):} &  0.581 & \\textbf{  Jarque-Bera (JB):  } &    1.012  \\\\\n",
       "\\textbf{Skew:}          &  0.242 & \\textbf{  Prob(JB):          } &    0.603  \\\\\n",
       "\\textbf{Kurtosis:}      &  2.902 & \\textbf{  Cond. No.          } &     313.  \\\\\n",
       "\\bottomrule\n",
       "\\end{tabular}\n",
       "%\\caption{OLS Regression Results}\n",
       "\\end{center}\n",
       "\n",
       "Notes: \\newline\n",
       " [1] Standard Errors assume that the covariance matrix of the errors is correctly specified."
      ],
      "text/plain": [
       "<class 'statsmodels.iolib.summary.Summary'>\n",
       "\"\"\"\n",
       "                            OLS Regression Results                            \n",
       "==============================================================================\n",
       "Dep. Variable:                      y   R-squared:                       0.988\n",
       "Model:                            OLS   Adj. R-squared:                  0.988\n",
       "Method:                 Least Squares   F-statistic:                     8148.\n",
       "Date:                Mon, 25 Sep 2023   Prob (F-statistic):           3.81e-96\n",
       "Time:                        21:15:47   Log-Likelihood:                -309.30\n",
       "No. Observations:                 100   AIC:                             622.6\n",
       "Df Residuals:                      98   BIC:                             627.8\n",
       "Df Model:                           1                                         \n",
       "Covariance Type:            nonrobust                                         \n",
       "==============================================================================\n",
       "                 coef    std err          t      P>|t|      [0.025      0.975]\n",
       "------------------------------------------------------------------------------\n",
       "const          0.0255      2.747      0.009      0.993      -5.426       5.477\n",
       "x1             4.0426      0.045     90.268      0.000       3.954       4.131\n",
       "==============================================================================\n",
       "Omnibus:                        1.085   Durbin-Watson:                   1.836\n",
       "Prob(Omnibus):                  0.581   Jarque-Bera (JB):                1.012\n",
       "Skew:                           0.242   Prob(JB):                        0.603\n",
       "Kurtosis:                       2.902   Cond. No.                         313.\n",
       "==============================================================================\n",
       "\n",
       "Notes:\n",
       "[1] Standard Errors assume that the covariance matrix of the errors is correctly specified.\n",
       "\"\"\""
      ]
     },
     "execution_count": 65,
     "metadata": {},
     "output_type": "execute_result"
    }
   ],
   "source": [
    "x_updated = sm.add_constant(x)\n",
    "model_updated = sm.OLS(y,x_updated).fit()\n",
    "model_updated.summary()"
   ]
  },
  {
   "cell_type": "code",
   "execution_count": 66,
   "metadata": {},
   "outputs": [],
   "source": [
    "# We now generate autocorrelated error terms\n",
    "epsilon[0] = np.random.normal(mu,sigma,1)\n",
    "for i in range(0,99):\n",
    "    epsilon[i+1]=0.4*epsilon[i]+0.6*np.random.normal(mu,sigma,1)"
   ]
  },
  {
   "cell_type": "code",
   "execution_count": 67,
   "metadata": {},
   "outputs": [],
   "source": [
    "y = 3 + 4*x + epsilon"
   ]
  },
  {
   "cell_type": "code",
   "execution_count": 68,
   "metadata": {},
   "outputs": [
    {
     "data": {
      "text/html": [
       "<table class=\"simpletable\">\n",
       "<caption>OLS Regression Results</caption>\n",
       "<tr>\n",
       "  <th>Dep. Variable:</th>            <td>y</td>        <th>  R-squared:         </th> <td>   0.996</td> \n",
       "</tr>\n",
       "<tr>\n",
       "  <th>Model:</th>                   <td>OLS</td>       <th>  Adj. R-squared:    </th> <td>   0.996</td> \n",
       "</tr>\n",
       "<tr>\n",
       "  <th>Method:</th>             <td>Least Squares</td>  <th>  F-statistic:       </th> <td>2.467e+04</td>\n",
       "</tr>\n",
       "<tr>\n",
       "  <th>Date:</th>             <td>Mon, 25 Sep 2023</td> <th>  Prob (F-statistic):</th> <td>1.50e-119</td>\n",
       "</tr>\n",
       "<tr>\n",
       "  <th>Time:</th>                 <td>21:15:47</td>     <th>  Log-Likelihood:    </th> <td> -252.79</td> \n",
       "</tr>\n",
       "<tr>\n",
       "  <th>No. Observations:</th>      <td>   100</td>      <th>  AIC:               </th> <td>   509.6</td> \n",
       "</tr>\n",
       "<tr>\n",
       "  <th>Df Residuals:</th>          <td>    98</td>      <th>  BIC:               </th> <td>   514.8</td> \n",
       "</tr>\n",
       "<tr>\n",
       "  <th>Df Model:</th>              <td>     1</td>      <th>                     </th>     <td> </td>    \n",
       "</tr>\n",
       "<tr>\n",
       "  <th>Covariance Type:</th>      <td>nonrobust</td>    <th>                     </th>     <td> </td>    \n",
       "</tr>\n",
       "</table>\n",
       "<table class=\"simpletable\">\n",
       "<tr>\n",
       "    <td></td>       <th>coef</th>     <th>std err</th>      <th>t</th>      <th>P>|t|</th>  <th>[0.025</th>    <th>0.975]</th>  \n",
       "</tr>\n",
       "<tr>\n",
       "  <th>const</th> <td>    3.5349</td> <td>    1.561</td> <td>    2.264</td> <td> 0.026</td> <td>    0.437</td> <td>    6.633</td>\n",
       "</tr>\n",
       "<tr>\n",
       "  <th>x1</th>    <td>    3.9975</td> <td>    0.025</td> <td>  157.064</td> <td> 0.000</td> <td>    3.947</td> <td>    4.048</td>\n",
       "</tr>\n",
       "</table>\n",
       "<table class=\"simpletable\">\n",
       "<tr>\n",
       "  <th>Omnibus:</th>       <td> 0.766</td> <th>  Durbin-Watson:     </th> <td>   1.309</td>\n",
       "</tr>\n",
       "<tr>\n",
       "  <th>Prob(Omnibus):</th> <td> 0.682</td> <th>  Jarque-Bera (JB):  </th> <td>   0.424</td>\n",
       "</tr>\n",
       "<tr>\n",
       "  <th>Skew:</th>          <td>-0.142</td> <th>  Prob(JB):          </th> <td>   0.809</td>\n",
       "</tr>\n",
       "<tr>\n",
       "  <th>Kurtosis:</th>      <td> 3.144</td> <th>  Cond. No.          </th> <td>    313.</td>\n",
       "</tr>\n",
       "</table><br/><br/>Notes:<br/>[1] Standard Errors assume that the covariance matrix of the errors is correctly specified."
      ],
      "text/latex": [
       "\\begin{center}\n",
       "\\begin{tabular}{lclc}\n",
       "\\toprule\n",
       "\\textbf{Dep. Variable:}    &        y         & \\textbf{  R-squared:         } &     0.996   \\\\\n",
       "\\textbf{Model:}            &       OLS        & \\textbf{  Adj. R-squared:    } &     0.996   \\\\\n",
       "\\textbf{Method:}           &  Least Squares   & \\textbf{  F-statistic:       } & 2.467e+04   \\\\\n",
       "\\textbf{Date:}             & Mon, 25 Sep 2023 & \\textbf{  Prob (F-statistic):} & 1.50e-119   \\\\\n",
       "\\textbf{Time:}             &     21:15:47     & \\textbf{  Log-Likelihood:    } &   -252.79   \\\\\n",
       "\\textbf{No. Observations:} &         100      & \\textbf{  AIC:               } &     509.6   \\\\\n",
       "\\textbf{Df Residuals:}     &          98      & \\textbf{  BIC:               } &     514.8   \\\\\n",
       "\\textbf{Df Model:}         &           1      & \\textbf{                     } &             \\\\\n",
       "\\textbf{Covariance Type:}  &    nonrobust     & \\textbf{                     } &             \\\\\n",
       "\\bottomrule\n",
       "\\end{tabular}\n",
       "\\begin{tabular}{lcccccc}\n",
       "               & \\textbf{coef} & \\textbf{std err} & \\textbf{t} & \\textbf{P$> |$t$|$} & \\textbf{[0.025} & \\textbf{0.975]}  \\\\\n",
       "\\midrule\n",
       "\\textbf{const} &       3.5349  &        1.561     &     2.264  &         0.026        &        0.437    &        6.633     \\\\\n",
       "\\textbf{x1}    &       3.9975  &        0.025     &   157.064  &         0.000        &        3.947    &        4.048     \\\\\n",
       "\\bottomrule\n",
       "\\end{tabular}\n",
       "\\begin{tabular}{lclc}\n",
       "\\textbf{Omnibus:}       &  0.766 & \\textbf{  Durbin-Watson:     } &    1.309  \\\\\n",
       "\\textbf{Prob(Omnibus):} &  0.682 & \\textbf{  Jarque-Bera (JB):  } &    0.424  \\\\\n",
       "\\textbf{Skew:}          & -0.142 & \\textbf{  Prob(JB):          } &    0.809  \\\\\n",
       "\\textbf{Kurtosis:}      &  3.144 & \\textbf{  Cond. No.          } &     313.  \\\\\n",
       "\\bottomrule\n",
       "\\end{tabular}\n",
       "%\\caption{OLS Regression Results}\n",
       "\\end{center}\n",
       "\n",
       "Notes: \\newline\n",
       " [1] Standard Errors assume that the covariance matrix of the errors is correctly specified."
      ],
      "text/plain": [
       "<class 'statsmodels.iolib.summary.Summary'>\n",
       "\"\"\"\n",
       "                            OLS Regression Results                            \n",
       "==============================================================================\n",
       "Dep. Variable:                      y   R-squared:                       0.996\n",
       "Model:                            OLS   Adj. R-squared:                  0.996\n",
       "Method:                 Least Squares   F-statistic:                 2.467e+04\n",
       "Date:                Mon, 25 Sep 2023   Prob (F-statistic):          1.50e-119\n",
       "Time:                        21:15:47   Log-Likelihood:                -252.79\n",
       "No. Observations:                 100   AIC:                             509.6\n",
       "Df Residuals:                      98   BIC:                             514.8\n",
       "Df Model:                           1                                         \n",
       "Covariance Type:            nonrobust                                         \n",
       "==============================================================================\n",
       "                 coef    std err          t      P>|t|      [0.025      0.975]\n",
       "------------------------------------------------------------------------------\n",
       "const          3.5349      1.561      2.264      0.026       0.437       6.633\n",
       "x1             3.9975      0.025    157.064      0.000       3.947       4.048\n",
       "==============================================================================\n",
       "Omnibus:                        0.766   Durbin-Watson:                   1.309\n",
       "Prob(Omnibus):                  0.682   Jarque-Bera (JB):                0.424\n",
       "Skew:                          -0.142   Prob(JB):                        0.809\n",
       "Kurtosis:                       3.144   Cond. No.                         313.\n",
       "==============================================================================\n",
       "\n",
       "Notes:\n",
       "[1] Standard Errors assume that the covariance matrix of the errors is correctly specified.\n",
       "\"\"\""
      ]
     },
     "execution_count": 68,
     "metadata": {},
     "output_type": "execute_result"
    }
   ],
   "source": [
    "x_updated = sm.add_constant(x)\n",
    "model_OLS = sm.OLS(y,x_updated).fit()\n",
    "model_OLS.summary()"
   ]
  },
  {
   "cell_type": "code",
   "execution_count": 69,
   "metadata": {},
   "outputs": [
    {
     "data": {
      "text/plain": [
       "array([[1. , 0.5, 0. , 0. , 0. , 0. , 0. , 0. ],\n",
       "       [0.5, 1. , 0.5, 0. , 0. , 0. , 0. , 0. ],\n",
       "       [0. , 0.5, 1. , 0.5, 0. , 0. , 0. , 0. ],\n",
       "       [0. , 0. , 0.5, 1. , 0.5, 0. , 0. , 0. ],\n",
       "       [0. , 0. , 0. , 0.5, 1. , 0.5, 0. , 0. ],\n",
       "       [0. , 0. , 0. , 0. , 0.5, 1. , 0.5, 0. ],\n",
       "       [0. , 0. , 0. , 0. , 0. , 0.5, 1. , 0.5],\n",
       "       [0. , 0. , 0. , 0. , 0. , 0. , 0.5, 1. ]])"
      ]
     },
     "execution_count": 69,
     "metadata": {},
     "output_type": "execute_result"
    }
   ],
   "source": [
    "from scipy.linalg import toeplitz\n",
    "toeplitz(np.array([1,0.5,0,0,0,0,0,0]))"
   ]
  },
  {
   "cell_type": "code",
   "execution_count": 70,
   "metadata": {},
   "outputs": [
    {
     "data": {
      "text/html": [
       "<table class=\"simpletable\">\n",
       "<caption>GLS Regression Results</caption>\n",
       "<tr>\n",
       "  <th>Dep. Variable:</th>            <td>y</td>        <th>  R-squared:         </th> <td>   0.997</td> \n",
       "</tr>\n",
       "<tr>\n",
       "  <th>Model:</th>                   <td>GLS</td>       <th>  Adj. R-squared:    </th> <td>   0.997</td> \n",
       "</tr>\n",
       "<tr>\n",
       "  <th>Method:</th>             <td>Least Squares</td>  <th>  F-statistic:       </th> <td>3.572e+04</td>\n",
       "</tr>\n",
       "<tr>\n",
       "  <th>Date:</th>             <td>Mon, 25 Sep 2023</td> <th>  Prob (F-statistic):</th> <td>2.10e-127</td>\n",
       "</tr>\n",
       "<tr>\n",
       "  <th>Time:</th>                 <td>21:15:47</td>     <th>  Log-Likelihood:    </th> <td> -247.03</td> \n",
       "</tr>\n",
       "<tr>\n",
       "  <th>No. Observations:</th>      <td>   100</td>      <th>  AIC:               </th> <td>   498.1</td> \n",
       "</tr>\n",
       "<tr>\n",
       "  <th>Df Residuals:</th>          <td>    98</td>      <th>  BIC:               </th> <td>   503.3</td> \n",
       "</tr>\n",
       "<tr>\n",
       "  <th>Df Model:</th>              <td>     1</td>      <th>                     </th>     <td> </td>    \n",
       "</tr>\n",
       "<tr>\n",
       "  <th>Covariance Type:</th>      <td>nonrobust</td>    <th>                     </th>     <td> </td>    \n",
       "</tr>\n",
       "</table>\n",
       "<table class=\"simpletable\">\n",
       "<tr>\n",
       "    <td></td>       <th>coef</th>     <th>std err</th>      <th>t</th>      <th>P>|t|</th>  <th>[0.025</th>    <th>0.975]</th>  \n",
       "</tr>\n",
       "<tr>\n",
       "  <th>const</th> <td>    3.3463</td> <td>    1.345</td> <td>    2.489</td> <td> 0.015</td> <td>    0.678</td> <td>    6.014</td>\n",
       "</tr>\n",
       "<tr>\n",
       "  <th>x1</th>    <td>    4.0007</td> <td>    0.021</td> <td>  189.006</td> <td> 0.000</td> <td>    3.959</td> <td>    4.043</td>\n",
       "</tr>\n",
       "</table>\n",
       "<table class=\"simpletable\">\n",
       "<tr>\n",
       "  <th>Omnibus:</th>       <td> 3.333</td> <th>  Durbin-Watson:     </th> <td>   2.218</td>\n",
       "</tr>\n",
       "<tr>\n",
       "  <th>Prob(Omnibus):</th> <td> 0.189</td> <th>  Jarque-Bera (JB):  </th> <td>   2.676</td>\n",
       "</tr>\n",
       "<tr>\n",
       "  <th>Skew:</th>          <td>-0.322</td> <th>  Prob(JB):          </th> <td>   0.262</td>\n",
       "</tr>\n",
       "<tr>\n",
       "  <th>Kurtosis:</th>      <td> 3.477</td> <th>  Cond. No.          </th> <td>    198.</td>\n",
       "</tr>\n",
       "</table><br/><br/>Notes:<br/>[1] Standard Errors assume that the covariance matrix of the errors is correctly specified."
      ],
      "text/latex": [
       "\\begin{center}\n",
       "\\begin{tabular}{lclc}\n",
       "\\toprule\n",
       "\\textbf{Dep. Variable:}    &        y         & \\textbf{  R-squared:         } &     0.997   \\\\\n",
       "\\textbf{Model:}            &       GLS        & \\textbf{  Adj. R-squared:    } &     0.997   \\\\\n",
       "\\textbf{Method:}           &  Least Squares   & \\textbf{  F-statistic:       } & 3.572e+04   \\\\\n",
       "\\textbf{Date:}             & Mon, 25 Sep 2023 & \\textbf{  Prob (F-statistic):} & 2.10e-127   \\\\\n",
       "\\textbf{Time:}             &     21:15:47     & \\textbf{  Log-Likelihood:    } &   -247.03   \\\\\n",
       "\\textbf{No. Observations:} &         100      & \\textbf{  AIC:               } &     498.1   \\\\\n",
       "\\textbf{Df Residuals:}     &          98      & \\textbf{  BIC:               } &     503.3   \\\\\n",
       "\\textbf{Df Model:}         &           1      & \\textbf{                     } &             \\\\\n",
       "\\textbf{Covariance Type:}  &    nonrobust     & \\textbf{                     } &             \\\\\n",
       "\\bottomrule\n",
       "\\end{tabular}\n",
       "\\begin{tabular}{lcccccc}\n",
       "               & \\textbf{coef} & \\textbf{std err} & \\textbf{t} & \\textbf{P$> |$t$|$} & \\textbf{[0.025} & \\textbf{0.975]}  \\\\\n",
       "\\midrule\n",
       "\\textbf{const} &       3.3463  &        1.345     &     2.489  &         0.015        &        0.678    &        6.014     \\\\\n",
       "\\textbf{x1}    &       4.0007  &        0.021     &   189.006  &         0.000        &        3.959    &        4.043     \\\\\n",
       "\\bottomrule\n",
       "\\end{tabular}\n",
       "\\begin{tabular}{lclc}\n",
       "\\textbf{Omnibus:}       &  3.333 & \\textbf{  Durbin-Watson:     } &    2.218  \\\\\n",
       "\\textbf{Prob(Omnibus):} &  0.189 & \\textbf{  Jarque-Bera (JB):  } &    2.676  \\\\\n",
       "\\textbf{Skew:}          & -0.322 & \\textbf{  Prob(JB):          } &    0.262  \\\\\n",
       "\\textbf{Kurtosis:}      &  3.477 & \\textbf{  Cond. No.          } &     198.  \\\\\n",
       "\\bottomrule\n",
       "\\end{tabular}\n",
       "%\\caption{GLS Regression Results}\n",
       "\\end{center}\n",
       "\n",
       "Notes: \\newline\n",
       " [1] Standard Errors assume that the covariance matrix of the errors is correctly specified."
      ],
      "text/plain": [
       "<class 'statsmodels.iolib.summary.Summary'>\n",
       "\"\"\"\n",
       "                            GLS Regression Results                            \n",
       "==============================================================================\n",
       "Dep. Variable:                      y   R-squared:                       0.997\n",
       "Model:                            GLS   Adj. R-squared:                  0.997\n",
       "Method:                 Least Squares   F-statistic:                 3.572e+04\n",
       "Date:                Mon, 25 Sep 2023   Prob (F-statistic):          2.10e-127\n",
       "Time:                        21:15:47   Log-Likelihood:                -247.03\n",
       "No. Observations:                 100   AIC:                             498.1\n",
       "Df Residuals:                      98   BIC:                             503.3\n",
       "Df Model:                           1                                         \n",
       "Covariance Type:            nonrobust                                         \n",
       "==============================================================================\n",
       "                 coef    std err          t      P>|t|      [0.025      0.975]\n",
       "------------------------------------------------------------------------------\n",
       "const          3.3463      1.345      2.489      0.015       0.678       6.014\n",
       "x1             4.0007      0.021    189.006      0.000       3.959       4.043\n",
       "==============================================================================\n",
       "Omnibus:                        3.333   Durbin-Watson:                   2.218\n",
       "Prob(Omnibus):                  0.189   Jarque-Bera (JB):                2.676\n",
       "Skew:                          -0.322   Prob(JB):                        0.262\n",
       "Kurtosis:                       3.477   Cond. No.                         198.\n",
       "==============================================================================\n",
       "\n",
       "Notes:\n",
       "[1] Standard Errors assume that the covariance matrix of the errors is correctly specified.\n",
       "\"\"\""
      ]
     },
     "execution_count": 70,
     "metadata": {},
     "output_type": "execute_result"
    }
   ],
   "source": [
    "rho = 0.4\n",
    "cov_matrix = sigma**2*toeplitz(np.append([1,rho],np.zeros(98)))\n",
    "sm.GLS(y,x_updated,cov_matrix).fit().summary()"
   ]
  },
  {
   "cell_type": "code",
   "execution_count": 71,
   "metadata": {},
   "outputs": [
    {
     "data": {
      "text/plain": [
       "array([1. , 0.4, 0. , 0. , 0. , 0. , 0. , 0. , 0. , 0. , 0. , 0. , 0. ,\n",
       "       0. , 0. , 0. , 0. , 0. , 0. , 0. , 0. , 0. , 0. , 0. , 0. , 0. ,\n",
       "       0. , 0. , 0. , 0. , 0. , 0. , 0. , 0. , 0. , 0. , 0. , 0. , 0. ,\n",
       "       0. , 0. , 0. , 0. , 0. , 0. , 0. , 0. , 0. , 0. , 0. , 0. , 0. ,\n",
       "       0. , 0. , 0. , 0. , 0. , 0. , 0. , 0. , 0. , 0. , 0. , 0. , 0. ,\n",
       "       0. , 0. , 0. , 0. , 0. , 0. , 0. , 0. , 0. , 0. , 0. , 0. , 0. ,\n",
       "       0. , 0. , 0. , 0. , 0. , 0. , 0. , 0. , 0. , 0. , 0. , 0. , 0. ,\n",
       "       0. , 0. , 0. , 0. , 0. , 0. , 0. , 0. , 0. ])"
      ]
     },
     "execution_count": 71,
     "metadata": {},
     "output_type": "execute_result"
    }
   ],
   "source": [
    "np.append([1,rho],np.zeros(98))"
   ]
  },
  {
   "cell_type": "code",
   "execution_count": null,
   "metadata": {},
   "outputs": [],
   "source": [
    "look at this code for assignment."
   ]
  },
  {
   "cell_type": "code",
   "execution_count": null,
   "metadata": {},
   "outputs": [],
   "source": []
  }
 ],
 "metadata": {
  "kernelspec": {
   "display_name": "Python 3",
   "language": "python",
   "name": "python3"
  },
  "language_info": {
   "codemirror_mode": {
    "name": "ipython",
    "version": 3
   },
   "file_extension": ".py",
   "mimetype": "text/x-python",
   "name": "python",
   "nbconvert_exporter": "python",
   "pygments_lexer": "ipython3",
   "version": "3.11.5"
  },
  "orig_nbformat": 4
 },
 "nbformat": 4,
 "nbformat_minor": 2
}
