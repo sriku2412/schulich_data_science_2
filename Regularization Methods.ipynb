{
 "cells": [
  {
   "cell_type": "code",
   "execution_count": 1,
   "id": "8289f5e1",
   "metadata": {},
   "outputs": [],
   "source": [
    "import numpy as np\n",
    "import pandas as pd\n",
    "import matplotlib.pyplot as plt\n",
    "import statsmodels.api as sm\n",
    "from sklearn import linear_model as lm"
   ]
  },
  {
   "cell_type": "code",
   "execution_count": 4,
   "id": "ac25ff6d",
   "metadata": {},
   "outputs": [],
   "source": [
    "x_1 = np.random.uniform(10,40,100)\n",
    "x_2 = np.random.uniform(-50,20,100)\n",
    "x_3 = np.random.uniform(20,60,100)\n",
    "x_4 = np.random.uniform(10,40,100)\n",
    "x_5 = np.random.uniform(-50,20,100)\n",
    "x_6 = np.random.uniform(20,60,100)\n",
    "epsilon = np.random.normal(0,10,100)"
   ]
  },
  {
   "cell_type": "code",
   "execution_count": 5,
   "id": "42b4353c",
   "metadata": {},
   "outputs": [],
   "source": [
    "y=-30+1.3*x_1+1.6*x_2+1.1*x_3+0.7*x_4-2.1*x_5-0.9*x_6+epsilon"
   ]
  },
  {
   "cell_type": "code",
   "execution_count": 9,
   "id": "f4f0d12d",
   "metadata": {},
   "outputs": [],
   "source": [
    "X_ols=pd.DataFrame()\n",
    "X_ols['Constant']=pd.Series(np.ones(100))\n",
    "X_ols['X1'] = pd.Series(x_1)\n",
    "X_ols['X2'] = pd.Series(x_2)\n",
    "X_ols['X3'] = pd.Series(x_3)\n",
    "X_ols['X4'] = pd.Series(x_4)\n",
    "X_ols['X5'] = pd.Series(x_5)\n",
    "X_ols['X6'] = pd.Series(x_6)"
   ]
  },
  {
   "cell_type": "code",
   "execution_count": 10,
   "id": "0614462a",
   "metadata": {},
   "outputs": [
    {
     "data": {
      "text/html": [
       "<table class=\"simpletable\">\n",
       "<caption>OLS Regression Results</caption>\n",
       "<tr>\n",
       "  <th>Dep. Variable:</th>            <td>y</td>        <th>  R-squared:         </th> <td>   0.967</td>\n",
       "</tr>\n",
       "<tr>\n",
       "  <th>Model:</th>                   <td>OLS</td>       <th>  Adj. R-squared:    </th> <td>   0.965</td>\n",
       "</tr>\n",
       "<tr>\n",
       "  <th>Method:</th>             <td>Least Squares</td>  <th>  F-statistic:       </th> <td>   454.0</td>\n",
       "</tr>\n",
       "<tr>\n",
       "  <th>Date:</th>             <td>Sun, 02 Oct 2022</td> <th>  Prob (F-statistic):</th> <td>1.42e-66</td>\n",
       "</tr>\n",
       "<tr>\n",
       "  <th>Time:</th>                 <td>14:07:07</td>     <th>  Log-Likelihood:    </th> <td> -370.82</td>\n",
       "</tr>\n",
       "<tr>\n",
       "  <th>No. Observations:</th>      <td>   100</td>      <th>  AIC:               </th> <td>   755.6</td>\n",
       "</tr>\n",
       "<tr>\n",
       "  <th>Df Residuals:</th>          <td>    93</td>      <th>  BIC:               </th> <td>   773.9</td>\n",
       "</tr>\n",
       "<tr>\n",
       "  <th>Df Model:</th>              <td>     6</td>      <th>                     </th>     <td> </td>   \n",
       "</tr>\n",
       "<tr>\n",
       "  <th>Covariance Type:</th>      <td>nonrobust</td>    <th>                     </th>     <td> </td>   \n",
       "</tr>\n",
       "</table>\n",
       "<table class=\"simpletable\">\n",
       "<tr>\n",
       "      <td></td>        <th>coef</th>     <th>std err</th>      <th>t</th>      <th>P>|t|</th>  <th>[0.025</th>    <th>0.975]</th>  \n",
       "</tr>\n",
       "<tr>\n",
       "  <th>Constant</th> <td>  -29.3296</td> <td>    6.731</td> <td>   -4.357</td> <td> 0.000</td> <td>  -42.696</td> <td>  -15.963</td>\n",
       "</tr>\n",
       "<tr>\n",
       "  <th>X1</th>       <td>    1.2386</td> <td>    0.118</td> <td>   10.526</td> <td> 0.000</td> <td>    1.005</td> <td>    1.472</td>\n",
       "</tr>\n",
       "<tr>\n",
       "  <th>X2</th>       <td>    1.5405</td> <td>    0.053</td> <td>   29.295</td> <td> 0.000</td> <td>    1.436</td> <td>    1.645</td>\n",
       "</tr>\n",
       "<tr>\n",
       "  <th>X3</th>       <td>    1.0986</td> <td>    0.090</td> <td>   12.203</td> <td> 0.000</td> <td>    0.920</td> <td>    1.277</td>\n",
       "</tr>\n",
       "<tr>\n",
       "  <th>X4</th>       <td>    0.7359</td> <td>    0.118</td> <td>    6.229</td> <td> 0.000</td> <td>    0.501</td> <td>    0.971</td>\n",
       "</tr>\n",
       "<tr>\n",
       "  <th>X5</th>       <td>   -2.1346</td> <td>    0.054</td> <td>  -39.287</td> <td> 0.000</td> <td>   -2.242</td> <td>   -2.027</td>\n",
       "</tr>\n",
       "<tr>\n",
       "  <th>X6</th>       <td>   -0.9411</td> <td>    0.090</td> <td>  -10.503</td> <td> 0.000</td> <td>   -1.119</td> <td>   -0.763</td>\n",
       "</tr>\n",
       "</table>\n",
       "<table class=\"simpletable\">\n",
       "<tr>\n",
       "  <th>Omnibus:</th>       <td> 1.259</td> <th>  Durbin-Watson:     </th> <td>   1.845</td>\n",
       "</tr>\n",
       "<tr>\n",
       "  <th>Prob(Omnibus):</th> <td> 0.533</td> <th>  Jarque-Bera (JB):  </th> <td>   1.122</td>\n",
       "</tr>\n",
       "<tr>\n",
       "  <th>Skew:</th>          <td>-0.074</td> <th>  Prob(JB):          </th> <td>   0.571</td>\n",
       "</tr>\n",
       "<tr>\n",
       "  <th>Kurtosis:</th>      <td> 2.502</td> <th>  Cond. No.          </th> <td>    466.</td>\n",
       "</tr>\n",
       "</table><br/><br/>Notes:<br/>[1] Standard Errors assume that the covariance matrix of the errors is correctly specified."
      ],
      "text/plain": [
       "<class 'statsmodels.iolib.summary.Summary'>\n",
       "\"\"\"\n",
       "                            OLS Regression Results                            \n",
       "==============================================================================\n",
       "Dep. Variable:                      y   R-squared:                       0.967\n",
       "Model:                            OLS   Adj. R-squared:                  0.965\n",
       "Method:                 Least Squares   F-statistic:                     454.0\n",
       "Date:                Sun, 02 Oct 2022   Prob (F-statistic):           1.42e-66\n",
       "Time:                        14:07:07   Log-Likelihood:                -370.82\n",
       "No. Observations:                 100   AIC:                             755.6\n",
       "Df Residuals:                      93   BIC:                             773.9\n",
       "Df Model:                           6                                         \n",
       "Covariance Type:            nonrobust                                         \n",
       "==============================================================================\n",
       "                 coef    std err          t      P>|t|      [0.025      0.975]\n",
       "------------------------------------------------------------------------------\n",
       "Constant     -29.3296      6.731     -4.357      0.000     -42.696     -15.963\n",
       "X1             1.2386      0.118     10.526      0.000       1.005       1.472\n",
       "X2             1.5405      0.053     29.295      0.000       1.436       1.645\n",
       "X3             1.0986      0.090     12.203      0.000       0.920       1.277\n",
       "X4             0.7359      0.118      6.229      0.000       0.501       0.971\n",
       "X5            -2.1346      0.054    -39.287      0.000      -2.242      -2.027\n",
       "X6            -0.9411      0.090    -10.503      0.000      -1.119      -0.763\n",
       "==============================================================================\n",
       "Omnibus:                        1.259   Durbin-Watson:                   1.845\n",
       "Prob(Omnibus):                  0.533   Jarque-Bera (JB):                1.122\n",
       "Skew:                          -0.074   Prob(JB):                        0.571\n",
       "Kurtosis:                       2.502   Cond. No.                         466.\n",
       "==============================================================================\n",
       "\n",
       "Notes:\n",
       "[1] Standard Errors assume that the covariance matrix of the errors is correctly specified.\n",
       "\"\"\""
      ]
     },
     "execution_count": 10,
     "metadata": {},
     "output_type": "execute_result"
    }
   ],
   "source": [
    "model_reg = sm.OLS(y,X_ols).fit()\n",
    "model_reg.summary()"
   ]
  },
  {
   "cell_type": "code",
   "execution_count": 11,
   "id": "7a996da0",
   "metadata": {},
   "outputs": [],
   "source": [
    "# Now we add some unrelated coefficients\n",
    "x_7 = np.random.uniform(10,40,100)\n",
    "x_8 = np.random.uniform(-50,20,100)\n",
    "x_9 = np.random.uniform(20,60,100)\n",
    "x_10 = np.random.uniform(10,40,100)\n",
    "x_11 = np.random.uniform(-50,20,100)\n",
    "x_12 = np.random.uniform(20,60,100)"
   ]
  },
  {
   "cell_type": "code",
   "execution_count": 23,
   "id": "6c40d68e",
   "metadata": {},
   "outputs": [],
   "source": [
    "X_ext = pd.DataFrame()\n",
    "X_ext['Constant']=pd.Series(np.ones(100))\n",
    "X_ext['X1'] = pd.Series(x_1)\n",
    "X_ext['X2'] = pd.Series(x_2)\n",
    "X_ext['X3'] = pd.Series(x_3)\n",
    "X_ext['X4'] = pd.Series(x_4)\n",
    "X_ext['X5'] = pd.Series(x_5)\n",
    "X_ext['X6'] = pd.Series(x_6)\n",
    "X_ext['X7'] = pd.Series(x_7)\n",
    "X_ext['X8'] = pd.Series(x_8)\n",
    "X_ext['X9'] = pd.Series(x_9)\n",
    "X_ext['X10'] = pd.Series(x_10)\n",
    "X_ext['X11'] = pd.Series(x_11)\n",
    "X_ext['X12'] = pd.Series(x_12)"
   ]
  },
  {
   "cell_type": "code",
   "execution_count": 24,
   "id": "d87033bc",
   "metadata": {},
   "outputs": [
    {
     "data": {
      "text/html": [
       "<table class=\"simpletable\">\n",
       "<caption>OLS Regression Results</caption>\n",
       "<tr>\n",
       "  <th>Dep. Variable:</th>            <td>y</td>        <th>  R-squared:         </th> <td>   0.968</td>\n",
       "</tr>\n",
       "<tr>\n",
       "  <th>Model:</th>                   <td>OLS</td>       <th>  Adj. R-squared:    </th> <td>   0.963</td>\n",
       "</tr>\n",
       "<tr>\n",
       "  <th>Method:</th>             <td>Least Squares</td>  <th>  F-statistic:       </th> <td>   216.9</td>\n",
       "</tr>\n",
       "<tr>\n",
       "  <th>Date:</th>             <td>Sun, 02 Oct 2022</td> <th>  Prob (F-statistic):</th> <td>2.30e-59</td>\n",
       "</tr>\n",
       "<tr>\n",
       "  <th>Time:</th>                 <td>14:26:02</td>     <th>  Log-Likelihood:    </th> <td> -369.80</td>\n",
       "</tr>\n",
       "<tr>\n",
       "  <th>No. Observations:</th>      <td>   100</td>      <th>  AIC:               </th> <td>   765.6</td>\n",
       "</tr>\n",
       "<tr>\n",
       "  <th>Df Residuals:</th>          <td>    87</td>      <th>  BIC:               </th> <td>   799.5</td>\n",
       "</tr>\n",
       "<tr>\n",
       "  <th>Df Model:</th>              <td>    12</td>      <th>                     </th>     <td> </td>   \n",
       "</tr>\n",
       "<tr>\n",
       "  <th>Covariance Type:</th>      <td>nonrobust</td>    <th>                     </th>     <td> </td>   \n",
       "</tr>\n",
       "</table>\n",
       "<table class=\"simpletable\">\n",
       "<tr>\n",
       "      <td></td>        <th>coef</th>     <th>std err</th>      <th>t</th>      <th>P>|t|</th>  <th>[0.025</th>    <th>0.975]</th>  \n",
       "</tr>\n",
       "<tr>\n",
       "  <th>Constant</th> <td>  -33.6749</td> <td>   10.495</td> <td>   -3.209</td> <td> 0.002</td> <td>  -54.535</td> <td>  -12.815</td>\n",
       "</tr>\n",
       "<tr>\n",
       "  <th>X1</th>       <td>    1.2531</td> <td>    0.125</td> <td>   10.034</td> <td> 0.000</td> <td>    1.005</td> <td>    1.501</td>\n",
       "</tr>\n",
       "<tr>\n",
       "  <th>X2</th>       <td>    1.5338</td> <td>    0.057</td> <td>   27.035</td> <td> 0.000</td> <td>    1.421</td> <td>    1.647</td>\n",
       "</tr>\n",
       "<tr>\n",
       "  <th>X3</th>       <td>    1.1104</td> <td>    0.095</td> <td>   11.655</td> <td> 0.000</td> <td>    0.921</td> <td>    1.300</td>\n",
       "</tr>\n",
       "<tr>\n",
       "  <th>X4</th>       <td>    0.7032</td> <td>    0.124</td> <td>    5.651</td> <td> 0.000</td> <td>    0.456</td> <td>    0.951</td>\n",
       "</tr>\n",
       "<tr>\n",
       "  <th>X5</th>       <td>   -2.1466</td> <td>    0.057</td> <td>  -37.779</td> <td> 0.000</td> <td>   -2.260</td> <td>   -2.034</td>\n",
       "</tr>\n",
       "<tr>\n",
       "  <th>X6</th>       <td>   -0.9398</td> <td>    0.095</td> <td>   -9.872</td> <td> 0.000</td> <td>   -1.129</td> <td>   -0.751</td>\n",
       "</tr>\n",
       "<tr>\n",
       "  <th>X7</th>       <td>    0.1203</td> <td>    0.142</td> <td>    0.849</td> <td> 0.398</td> <td>   -0.161</td> <td>    0.402</td>\n",
       "</tr>\n",
       "<tr>\n",
       "  <th>X8</th>       <td>   -0.0193</td> <td>    0.057</td> <td>   -0.342</td> <td> 0.733</td> <td>   -0.132</td> <td>    0.093</td>\n",
       "</tr>\n",
       "<tr>\n",
       "  <th>X9</th>       <td>   -0.0273</td> <td>    0.098</td> <td>   -0.279</td> <td> 0.781</td> <td>   -0.222</td> <td>    0.167</td>\n",
       "</tr>\n",
       "<tr>\n",
       "  <th>X10</th>      <td>   -0.0554</td> <td>    0.132</td> <td>   -0.420</td> <td> 0.676</td> <td>   -0.318</td> <td>    0.207</td>\n",
       "</tr>\n",
       "<tr>\n",
       "  <th>X11</th>      <td>   -0.0423</td> <td>    0.058</td> <td>   -0.733</td> <td> 0.465</td> <td>   -0.157</td> <td>    0.072</td>\n",
       "</tr>\n",
       "<tr>\n",
       "  <th>X12</th>      <td>    0.0625</td> <td>    0.098</td> <td>    0.638</td> <td> 0.525</td> <td>   -0.132</td> <td>    0.257</td>\n",
       "</tr>\n",
       "</table>\n",
       "<table class=\"simpletable\">\n",
       "<tr>\n",
       "  <th>Omnibus:</th>       <td> 0.892</td> <th>  Durbin-Watson:     </th> <td>   1.793</td>\n",
       "</tr>\n",
       "<tr>\n",
       "  <th>Prob(Omnibus):</th> <td> 0.640</td> <th>  Jarque-Bera (JB):  </th> <td>   0.901</td>\n",
       "</tr>\n",
       "<tr>\n",
       "  <th>Skew:</th>          <td>-0.056</td> <th>  Prob(JB):          </th> <td>   0.637</td>\n",
       "</tr>\n",
       "<tr>\n",
       "  <th>Kurtosis:</th>      <td> 2.549</td> <th>  Cond. No.          </th> <td>    995.</td>\n",
       "</tr>\n",
       "</table><br/><br/>Notes:<br/>[1] Standard Errors assume that the covariance matrix of the errors is correctly specified."
      ],
      "text/plain": [
       "<class 'statsmodels.iolib.summary.Summary'>\n",
       "\"\"\"\n",
       "                            OLS Regression Results                            \n",
       "==============================================================================\n",
       "Dep. Variable:                      y   R-squared:                       0.968\n",
       "Model:                            OLS   Adj. R-squared:                  0.963\n",
       "Method:                 Least Squares   F-statistic:                     216.9\n",
       "Date:                Sun, 02 Oct 2022   Prob (F-statistic):           2.30e-59\n",
       "Time:                        14:26:02   Log-Likelihood:                -369.80\n",
       "No. Observations:                 100   AIC:                             765.6\n",
       "Df Residuals:                      87   BIC:                             799.5\n",
       "Df Model:                          12                                         \n",
       "Covariance Type:            nonrobust                                         \n",
       "==============================================================================\n",
       "                 coef    std err          t      P>|t|      [0.025      0.975]\n",
       "------------------------------------------------------------------------------\n",
       "Constant     -33.6749     10.495     -3.209      0.002     -54.535     -12.815\n",
       "X1             1.2531      0.125     10.034      0.000       1.005       1.501\n",
       "X2             1.5338      0.057     27.035      0.000       1.421       1.647\n",
       "X3             1.1104      0.095     11.655      0.000       0.921       1.300\n",
       "X4             0.7032      0.124      5.651      0.000       0.456       0.951\n",
       "X5            -2.1466      0.057    -37.779      0.000      -2.260      -2.034\n",
       "X6            -0.9398      0.095     -9.872      0.000      -1.129      -0.751\n",
       "X7             0.1203      0.142      0.849      0.398      -0.161       0.402\n",
       "X8            -0.0193      0.057     -0.342      0.733      -0.132       0.093\n",
       "X9            -0.0273      0.098     -0.279      0.781      -0.222       0.167\n",
       "X10           -0.0554      0.132     -0.420      0.676      -0.318       0.207\n",
       "X11           -0.0423      0.058     -0.733      0.465      -0.157       0.072\n",
       "X12            0.0625      0.098      0.638      0.525      -0.132       0.257\n",
       "==============================================================================\n",
       "Omnibus:                        0.892   Durbin-Watson:                   1.793\n",
       "Prob(Omnibus):                  0.640   Jarque-Bera (JB):                0.901\n",
       "Skew:                          -0.056   Prob(JB):                        0.637\n",
       "Kurtosis:                       2.549   Cond. No.                         995.\n",
       "==============================================================================\n",
       "\n",
       "Notes:\n",
       "[1] Standard Errors assume that the covariance matrix of the errors is correctly specified.\n",
       "\"\"\""
      ]
     },
     "execution_count": 24,
     "metadata": {},
     "output_type": "execute_result"
    }
   ],
   "source": [
    "model_reg = sm.OLS(y,X_ext).fit()\n",
    "model_reg.summary()"
   ]
  },
  {
   "cell_type": "code",
   "execution_count": 28,
   "id": "4bf6e43b",
   "metadata": {},
   "outputs": [
    {
     "data": {
      "text/plain": [
       "array([ 1.23952752,  1.53145407,  1.09882225,  0.69359863, -2.14047446,\n",
       "       -0.92871513,  0.10059897, -0.01586398, -0.01655489, -0.03638864,\n",
       "       -0.03742941,  0.05533014])"
      ]
     },
     "execution_count": 28,
     "metadata": {},
     "output_type": "execute_result"
    }
   ],
   "source": [
    "# When we input the matrix, we don't need to add the column of ones because \\\n",
    "# Lasso automatically takes it into account\n",
    "\n",
    "X_ext = X_ext.drop(columns=['Constant'])\n",
    "model_lasso = lm.Lasso(alpha=1).fit(X_ext,y)\n",
    "model_lasso.coef_"
   ]
  },
  {
   "cell_type": "code",
   "execution_count": 36,
   "id": "d9778204",
   "metadata": {},
   "outputs": [
    {
     "data": {
      "text/plain": [
       "array([ 1.10484424,  1.51390299,  1.01218205,  0.59247201, -2.09748408,\n",
       "       -0.84828585,  0.        , -0.        , -0.        , -0.        ,\n",
       "       -0.        ,  0.        ])"
      ]
     },
     "execution_count": 36,
     "metadata": {},
     "output_type": "execute_result"
    }
   ],
   "source": [
    "model_lasso = lm.Lasso(alpha=10).fit(X_ext,y)\n",
    "model_lasso.coef_"
   ]
  },
  {
   "cell_type": "code",
   "execution_count": 41,
   "id": "7b10d4f6",
   "metadata": {},
   "outputs": [
    {
     "data": {
      "text/plain": [
       "array([ 1.25127262,  1.53337585,  1.10937072,  0.70229948, -2.14587799,\n",
       "       -0.93878662,  0.11997347, -0.01943572, -0.0270754 , -0.05503608,\n",
       "       -0.04212088,  0.06266356])"
      ]
     },
     "execution_count": 41,
     "metadata": {},
     "output_type": "execute_result"
    }
   ],
   "source": [
    "# We now apply Ridge Regression to our data\n",
    "\n",
    "model_ridge = lm.Ridge(alpha=10).fit(X_ext,y)\n",
    "model_ridge.coef_"
   ]
  },
  {
   "cell_type": "code",
   "execution_count": 42,
   "id": "16de3321",
   "metadata": {},
   "outputs": [
    {
     "data": {
      "text/plain": [
       "array([ 0.50321658,  1.21756962,  0.57935289,  0.32105205, -1.62079055,\n",
       "       -0.42170529,  0.00375219, -0.07646285,  0.07164929,  0.05336775,\n",
       "        0.01281994,  0.08499685])"
      ]
     },
     "execution_count": 42,
     "metadata": {},
     "output_type": "execute_result"
    }
   ],
   "source": [
    "model_ridge = lm.Ridge(alpha=10000).fit(X_ext,y)\n",
    "model_ridge.coef_"
   ]
  },
  {
   "cell_type": "code",
   "execution_count": null,
   "id": "b0628168",
   "metadata": {},
   "outputs": [],
   "source": []
  }
 ],
 "metadata": {
  "kernelspec": {
   "display_name": "Python 3 (ipykernel)",
   "language": "python",
   "name": "python3"
  },
  "language_info": {
   "codemirror_mode": {
    "name": "ipython",
    "version": 3
   },
   "file_extension": ".py",
   "mimetype": "text/x-python",
   "name": "python",
   "nbconvert_exporter": "python",
   "pygments_lexer": "ipython3",
   "version": "3.9.7"
  }
 },
 "nbformat": 4,
 "nbformat_minor": 5
}
