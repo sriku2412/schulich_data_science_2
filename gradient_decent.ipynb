{
 "cells": [
  {
   "cell_type": "markdown",
   "metadata": {},
   "source": [
    "### Gradient Decent "
   ]
  },
  {
   "cell_type": "code",
   "execution_count": 2,
   "metadata": {},
   "outputs": [],
   "source": [
    "\n",
    "import numpy as np \n",
    "X = [0.5, 2.5]\n",
    "Y = [0.2, 0.9]\n",
    "\n",
    "def f(w,b,x) : #sigmoid with parameters w,b\n",
    "    return 1.0 / (1.0 + np.exp( -(w*x +b)))\n",
    "\n",
    "def error (w, b) :\n",
    "    err = 0.0\n",
    "    for x,y in zip(X,Y) :\n",
    "        fx = f(w,b,x)\n",
    "        err += 0.5 * (fx - y) ** 2\n",
    "    return err\n",
    "\n",
    "def grad_b(w,b,x,y) :\n",
    "    fx = f(w,b,x)\n",
    "    return (fx - y) * fx * (1 - fx)\n",
    "\n",
    "def grad_w(w,b,x,y):\n",
    "    fx = f(w,b,x)\n",
    "    return (fx - y) * fx * (1 - fx) * x\n",
    "\n",
    "def do_gradient_descent():\n",
    "    w, b, eta, max_epochs = -2, -2, 1.0, 1000\n",
    "    for i in range(max_epochs) :\n",
    "        dw, db = 0, 0\n",
    "        for x,y in zip(X, Y) :\n",
    "            dw += grad_w(w, b, x, y)\n",
    "            db += grad_b(w, b, x,y)\n",
    "        W = w - eta * dw\n",
    "        b = b - eta * db\n",
    "        \n",
    "# how can you plot the grdient decent ?"
   ]
  },
  {
   "cell_type": "code",
   "execution_count": null,
   "metadata": {},
   "outputs": [],
   "source": []
  }
 ],
 "metadata": {
  "kernelspec": {
   "display_name": "Python 3",
   "language": "python",
   "name": "python3"
  },
  "language_info": {
   "codemirror_mode": {
    "name": "ipython",
    "version": 3
   },
   "file_extension": ".py",
   "mimetype": "text/x-python",
   "name": "python",
   "nbconvert_exporter": "python",
   "pygments_lexer": "ipython3",
   "version": "3.12.0"
  }
 },
 "nbformat": 4,
 "nbformat_minor": 2
}
