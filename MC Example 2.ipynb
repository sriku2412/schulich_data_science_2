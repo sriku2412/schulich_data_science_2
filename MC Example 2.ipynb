{
 "cells": [
  {
   "cell_type": "code",
   "execution_count": 11,
   "id": "9010499b",
   "metadata": {},
   "outputs": [],
   "source": [
    "import numpy as np\n",
    "import pandas as pd\n",
    "import matplotlib.pyplot as plt"
   ]
  },
  {
   "cell_type": "code",
   "execution_count": 12,
   "id": "638d918a",
   "metadata": {},
   "outputs": [],
   "source": [
    "demand = np.array([0,1,2,3,4,5])\n",
    "frequency = np.array([15,30,60,120,45,30])\n",
    "demand_probs = frequency/np.sum(frequency)\n",
    "demand_cum_probs = np.cumsum(demand_probs)"
   ]
  },
  {
   "cell_type": "code",
   "execution_count": 13,
   "id": "4dfd8bfd",
   "metadata": {},
   "outputs": [],
   "source": [
    "lead_time = np.array([1,2,3])\n",
    "frequency = np.array([10,25,15])\n",
    "lead_time_probs = frequency/np.sum(frequency)\n",
    "lead_time_cum_probs = np.cumsum(lead_time_probs)"
   ]
  },
  {
   "cell_type": "code",
   "execution_count": 26,
   "id": "079e9e6e",
   "metadata": {},
   "outputs": [],
   "source": [
    "# order quantity\n",
    "Q = 10\n",
    "# reorder level\n",
    "R = 5\n",
    "# begining inventory level\n",
    "I = 10\n",
    "# Ending inventory\n",
    "EI = []\n",
    "# Lost sales\n",
    "LS = []\n",
    "# lead time counter\n",
    "lead_time_new = 0\n",
    "# outstanding order check\n",
    "order = False\n",
    "# daily cost\n",
    "daily_cost = []"
   ]
  },
  {
   "cell_type": "code",
   "execution_count": 27,
   "id": "58f87477",
   "metadata": {},
   "outputs": [],
   "source": [
    "# Let's develop the MC simulation for 1000 days and one iteration\n",
    "m = 1000\n",
    "for i in range(m):\n",
    "    if (order==True):\n",
    "        lead_time_new = lead_time_new - 1\n",
    "        if (lead_time_new==0):\n",
    "            I = I + Q\n",
    "            order= False\n",
    "    demand_rv = np.random.uniform(0,1,1)\n",
    "    index_value = min(np.argwhere(demand_cum_probs>demand_rv).ravel())\n",
    "    demand_realized = demand[index_value]\n",
    "    EI.append(max(0,I-demand_realized))\n",
    "    LS.append(max(0,demand_realized-I))\n",
    "    mismatch_cost = 0.5*EI[-1]+8*LS[-1]\n",
    "    ordering_cost = 0\n",
    "    I = EI[-1]\n",
    "    if (I<R and order==False):\n",
    "        lead_time_rv = np.random.uniform(0,1,1)\n",
    "        index_value = min(np.argwhere(lead_time_cum_probs>lead_time_rv).ravel())\n",
    "        lead_time_realized = lead_time[index_value]\n",
    "        lead_time_new = lead_time_realized\n",
    "        order=True\n",
    "        ordering_cost = 10\n",
    "    daily_cost.append(mismatch_cost+ordering_cost)"
   ]
  },
  {
   "cell_type": "code",
   "execution_count": 31,
   "id": "81333b46",
   "metadata": {},
   "outputs": [],
   "source": [
    "# Let's develop the MC simulation for 1000 days and 100 iteration\n",
    "m = 1000\n",
    "N = 100 \n",
    "daily_cost_values = np.zeros((m,N))\n",
    "for i in range(N):\n",
    "    Q = 10\n",
    "    R = 5\n",
    "    I = 10\n",
    "    EI = []\n",
    "    LS = []\n",
    "    lead_time_new = 0\n",
    "    order = False\n",
    "    daily_cost = []\n",
    "    for j in range(m):\n",
    "        if (order==True):\n",
    "            lead_time_new = lead_time_new - 1\n",
    "            if (lead_time_new==0):\n",
    "                I = I + Q\n",
    "                order= False\n",
    "        demand_rv = np.random.uniform(0,1,1)\n",
    "        index_value = min(np.argwhere(demand_cum_probs>demand_rv).ravel())\n",
    "        demand_realized = demand[index_value]\n",
    "        EI.append(max(0,I-demand_realized))\n",
    "        LS.append(max(0,demand_realized-I))\n",
    "        mismatch_cost = 0.5*EI[-1]+8*LS[-1]\n",
    "        ordering_cost = 0\n",
    "        I = EI[-1]\n",
    "        if (I<R and order==False):\n",
    "            lead_time_rv = np.random.uniform(0,1,1)\n",
    "            index_value = min(np.argwhere(lead_time_cum_probs>lead_time_rv).ravel())\n",
    "            lead_time_realized = lead_time[index_value]\n",
    "            lead_time_new = lead_time_realized\n",
    "            order=True\n",
    "            ordering_cost = 10\n",
    "        daily_cost.append(mismatch_cost+ordering_cost)\n",
    "    daily_cost_values[:,i]=daily_cost\n",
    "\n"
   ]
  },
  {
   "cell_type": "code",
   "execution_count": 32,
   "id": "f5fd9803",
   "metadata": {},
   "outputs": [
    {
     "data": {
      "text/plain": [
       "list[6.973717446906385, 7.006984999999999, 7.040252553093613]"
      ]
     },
     "execution_count": 32,
     "metadata": {},
     "output_type": "execute_result"
    }
   ],
   "source": [
    "# calculate the mean of each sample\n",
    "mean_sample = np.mean(daily_cost_values, axis = 0)\n",
    "# calculate standard deviation\n",
    "sigma = np.std(mean_sample)\n",
    "# Mean of means\n",
    "f_bar_bar = np.mean(mean_sample)\n",
    "# Lower bound of CI\n",
    "lower_bound = f_bar_bar-1.96*sigma/np.sqrt(N)\n",
    "# Upper bound of CI\n",
    "upper_bound = f_bar_bar+1.96*sigma/np.sqrt(N)\n",
    "# Summary statistics Lower Bound, Mean of Means, Upper Bound\n",
    "list[lower_bound,f_bar_bar,upper_bound]"
   ]
  },
  {
   "cell_type": "code",
   "execution_count": null,
   "id": "770e1983",
   "metadata": {},
   "outputs": [],
   "source": []
  }
 ],
 "metadata": {
  "kernelspec": {
   "display_name": "Python 3 (ipykernel)",
   "language": "python",
   "name": "python3"
  },
  "language_info": {
   "codemirror_mode": {
    "name": "ipython",
    "version": 3
   },
   "file_extension": ".py",
   "mimetype": "text/x-python",
   "name": "python",
   "nbconvert_exporter": "python",
   "pygments_lexer": "ipython3",
   "version": "3.9.12"
  }
 },
 "nbformat": 4,
 "nbformat_minor": 5
}
