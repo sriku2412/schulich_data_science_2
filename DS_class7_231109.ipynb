{
  "cells": [
    {
      "cell_type": "code",
      "execution_count": null,
      "metadata": {
        "id": "VZFBtbTB0fZz"
      },
      "outputs": [],
      "source": [
        "import pandas as pd\n",
        "import tensorflow as tf\n",
        "import numpy as np\n",
        "import matplotlib.pyplot as plt"
      ]
    },
    {
      "cell_type": "code",
      "execution_count": null,
      "metadata": {
        "colab": {
          "base_uri": "https://localhost:8080/"
        },
        "id": "28CN5k5c0fZ9",
        "outputId": "9447c01b-dbbb-416f-d6e0-d49eb5f6dc73"
      },
      "outputs": [
        {
          "name": "stdout",
          "output_type": "stream",
          "text": [
            "Requirement already satisfied: tensorflow_datasets in /usr/local/lib/python3.10/dist-packages (4.9.3)\n",
            "Requirement already satisfied: absl-py in /usr/local/lib/python3.10/dist-packages (from tensorflow_datasets) (1.4.0)\n",
            "Requirement already satisfied: array-record in /usr/local/lib/python3.10/dist-packages (from tensorflow_datasets) (0.5.0)\n",
            "Requirement already satisfied: click in /usr/local/lib/python3.10/dist-packages (from tensorflow_datasets) (8.1.7)\n",
            "Requirement already satisfied: dm-tree in /usr/local/lib/python3.10/dist-packages (from tensorflow_datasets) (0.1.8)\n",
            "Requirement already satisfied: etils[enp,epath,etree]>=0.9.0 in /usr/local/lib/python3.10/dist-packages (from tensorflow_datasets) (1.5.2)\n",
            "Requirement already satisfied: numpy in /usr/local/lib/python3.10/dist-packages (from tensorflow_datasets) (1.23.5)\n",
            "Requirement already satisfied: promise in /usr/local/lib/python3.10/dist-packages (from tensorflow_datasets) (2.3)\n",
            "Requirement already satisfied: protobuf>=3.20 in /usr/local/lib/python3.10/dist-packages (from tensorflow_datasets) (3.20.3)\n",
            "Requirement already satisfied: psutil in /usr/local/lib/python3.10/dist-packages (from tensorflow_datasets) (5.9.5)\n",
            "Requirement already satisfied: requests>=2.19.0 in /usr/local/lib/python3.10/dist-packages (from tensorflow_datasets) (2.31.0)\n",
            "Requirement already satisfied: tensorflow-metadata in /usr/local/lib/python3.10/dist-packages (from tensorflow_datasets) (1.14.0)\n",
            "Requirement already satisfied: termcolor in /usr/local/lib/python3.10/dist-packages (from tensorflow_datasets) (2.3.0)\n",
            "Requirement already satisfied: toml in /usr/local/lib/python3.10/dist-packages (from tensorflow_datasets) (0.10.2)\n",
            "Requirement already satisfied: tqdm in /usr/local/lib/python3.10/dist-packages (from tensorflow_datasets) (4.66.1)\n",
            "Requirement already satisfied: wrapt in /usr/local/lib/python3.10/dist-packages (from tensorflow_datasets) (1.14.1)\n",
            "Requirement already satisfied: fsspec in /usr/local/lib/python3.10/dist-packages (from etils[enp,epath,etree]>=0.9.0->tensorflow_datasets) (2023.6.0)\n",
            "Requirement already satisfied: importlib_resources in /usr/local/lib/python3.10/dist-packages (from etils[enp,epath,etree]>=0.9.0->tensorflow_datasets) (6.1.0)\n",
            "Requirement already satisfied: typing_extensions in /usr/local/lib/python3.10/dist-packages (from etils[enp,epath,etree]>=0.9.0->tensorflow_datasets) (4.5.0)\n",
            "Requirement already satisfied: zipp in /usr/local/lib/python3.10/dist-packages (from etils[enp,epath,etree]>=0.9.0->tensorflow_datasets) (3.17.0)\n",
            "Requirement already satisfied: charset-normalizer<4,>=2 in /usr/local/lib/python3.10/dist-packages (from requests>=2.19.0->tensorflow_datasets) (3.3.2)\n",
            "Requirement already satisfied: idna<4,>=2.5 in /usr/local/lib/python3.10/dist-packages (from requests>=2.19.0->tensorflow_datasets) (3.4)\n",
            "Requirement already satisfied: urllib3<3,>=1.21.1 in /usr/local/lib/python3.10/dist-packages (from requests>=2.19.0->tensorflow_datasets) (2.0.7)\n",
            "Requirement already satisfied: certifi>=2017.4.17 in /usr/local/lib/python3.10/dist-packages (from requests>=2.19.0->tensorflow_datasets) (2023.7.22)\n",
            "Requirement already satisfied: six in /usr/local/lib/python3.10/dist-packages (from promise->tensorflow_datasets) (1.16.0)\n",
            "Requirement already satisfied: googleapis-common-protos<2,>=1.52.0 in /usr/local/lib/python3.10/dist-packages (from tensorflow-metadata->tensorflow_datasets) (1.61.0)\n"
          ]
        }
      ],
      "source": [
        "pip install tensorflow_datasets"
      ]
    },
    {
      "cell_type": "code",
      "execution_count": null,
      "metadata": {
        "id": "JynnnlVJ0faA"
      },
      "outputs": [],
      "source": [
        "import tensorflow_datasets as tfds"
      ]
    },
    {
      "cell_type": "code",
      "execution_count": null,
      "metadata": {
        "id": "mOvKceOm0faB"
      },
      "outputs": [],
      "source": [
        "(train, test) = tfds.load('mnist',\n",
        "                                split = ['train','test'])"
      ]
    },
    {
      "cell_type": "code",
      "execution_count": null,
      "metadata": {
        "colab": {
          "base_uri": "https://localhost:8080/"
        },
        "id": "fMlt_t3M0faD",
        "outputId": "4a097ada-8da3-47ea-c593-6c19464ab6b9"
      },
      "outputs": [
        {
          "data": {
            "text/plain": [
              "<_PrefetchDataset element_spec={'image': TensorSpec(shape=(28, 28, 1), dtype=tf.uint8, name=None), 'label': TensorSpec(shape=(), dtype=tf.int64, name=None)}>"
            ]
          },
          "execution_count": 24,
          "metadata": {},
          "output_type": "execute_result"
        }
      ],
      "source": [
        "train"
      ]
    },
    {
      "cell_type": "code",
      "execution_count": null,
      "metadata": {
        "colab": {
          "base_uri": "https://localhost:8080/"
        },
        "id": "OYhC5cmA0faE",
        "outputId": "db19405a-1def-4d9d-9a6f-0509aafa4652"
      },
      "outputs": [
        {
          "data": {
            "text/plain": [
              "<_PrefetchDataset element_spec={'image': TensorSpec(shape=(28, 28, 1), dtype=tf.uint8, name=None), 'label': TensorSpec(shape=(), dtype=tf.int64, name=None)}>"
            ]
          },
          "execution_count": 25,
          "metadata": {},
          "output_type": "execute_result"
        }
      ],
      "source": [
        "test"
      ]
    },
    {
      "cell_type": "code",
      "execution_count": null,
      "metadata": {
        "id": "lYObGF-00faF"
      },
      "outputs": [],
      "source": [
        "from sklearn.preprocessing import StandardScaler\n",
        "from sklearn.preprocessing import OneHotEncoder\n",
        "\n",
        "def load_dataset(train_size, test_size):\n",
        "    train, test = tf.keras.datasets.mnist.load_data()\n",
        "\n",
        "    # take a sample\n",
        "    train_idx = np.random.randint(low=0, high=train[0].shape[0], size=train_size)\n",
        "    test_idx = np.random.randint(low=0, high=test[0].shape[0], size=test_size)\n",
        "    X_train = train[0][train_idx].reshape(-1,28*28)\n",
        "    y_train = train[1][train_idx].reshape(-1,1)\n",
        "    X_test = test[0][test_idx].reshape(-1,28*28)\n",
        "    y_test = test[1][test_idx].reshape(-1,1)\n",
        "\n",
        "    scale = StandardScaler()\n",
        "    X_train = scale.fit_transform(X_train)\n",
        "    X_test = scale.transform(X_test)\n",
        "\n",
        "    OH = OneHotEncoder(categories='auto', sparse=False)\n",
        "    y_train = OH.fit_transform(y_train)\n",
        "    y_test = OH.transform(y_test)\n",
        "\n",
        "    print('X_train:',X_train.shape)\n",
        "    print('y_train:',y_train.shape)\n",
        "    print('X_test:',X_test.shape)\n",
        "    print('y_test:',y_test.shape)\n",
        "    print('Min:', X_train.min())\n",
        "    print('Max:', X_train.max())\n",
        "\n",
        "    return X_train, X_test, y_train, y_test\n"
      ]
    },
    {
      "cell_type": "code",
      "execution_count": null,
      "metadata": {
        "colab": {
          "base_uri": "https://localhost:8080/"
        },
        "id": "lXDAo9D50faG",
        "outputId": "792b57f8-19d5-4198-c88d-e8d2b7a7e28f"
      },
      "outputs": [
        {
          "name": "stdout",
          "output_type": "stream",
          "text": [
            "X_train: (60000, 784)\n",
            "y_train: (60000, 10)\n",
            "X_test: (10000, 784)\n",
            "y_test: (10000, 10)\n",
            "Min: -1.2714736906737605\n",
            "Max: 244.94693302864556\n"
          ]
        },
        {
          "name": "stderr",
          "output_type": "stream",
          "text": [
            "/usr/local/lib/python3.10/dist-packages/sklearn/preprocessing/_encoders.py:868: FutureWarning: `sparse` was renamed to `sparse_output` in version 1.2 and will be removed in 1.4. `sparse_output` is ignored unless you leave `sparse` to its default value.\n",
            "  warnings.warn(\n"
          ]
        }
      ],
      "source": [
        "X_train, X_test, y_train, y_test = load_dataset(60000,10000)"
      ]
    },
    {
      "cell_type": "markdown",
      "metadata": {
        "id": "IuCFyl5U0faH"
      },
      "source": [
        "### Optimizing at the Initialization Stage"
      ]
    },
    {
      "cell_type": "code",
      "execution_count": null,
      "metadata": {
        "id": "b_Vab0v00faK"
      },
      "outputs": [],
      "source": [
        "from tensorflow.keras import layers"
      ]
    },
    {
      "cell_type": "code",
      "execution_count": null,
      "metadata": {
        "id": "pCm1FHvA0faL"
      },
      "outputs": [],
      "source": [
        "def simple_model(initializer, activation='relu'):\n",
        "    return tf.keras.Sequential([layers.Dense(32, activation, input_shape=(784,), kernel_initializer=initializer),\n",
        "                                layers.Dense(32, activation, kernel_initializer=initializer),\n",
        "                                layers.Dense(32, activation, kernel_initializer=initializer),\n",
        "                                layers.Dense(32, activation, kernel_initializer=initializer),\n",
        "                                layers.Dense(10, activation = 'softmax', kernel_initializer=tf.keras.initializers.glorot_normal())\n",
        "\n",
        "\n",
        "\n",
        "    ])"
      ]
    },
    {
      "cell_type": "code",
      "execution_count": null,
      "metadata": {
        "id": "KB72CKbq0faM"
      },
      "outputs": [],
      "source": [
        "init = tf.initializers.zeros()\n",
        "activate = 'relu'\n",
        "optimizer = tf.keras.optimizers.SGD(learning_rate=0.01)\n",
        "model_zeros = simple_model(init, activate)\n",
        "model_zeros.compile(optimizer=optimizer, loss='categorical_crossentropy', metrics=['accuracy'])\n",
        "model_zeros.fit(X_train, y_train, epochs=10, batch_size=3200, validation_data=(X_test, y_test))"
      ]
    },
    {
      "cell_type": "code",
      "execution_count": null,
      "metadata": {
        "id": "PU2mcbC70faM"
      },
      "outputs": [],
      "source": []
    },
    {
      "cell_type": "code",
      "execution_count": null,
      "metadata": {
        "colab": {
          "base_uri": "https://localhost:8080/"
        },
        "id": "p1yrApkx0faN",
        "outputId": "2273f6a1-7071-4307-9855-e3b3f2491333"
      },
      "outputs": [
        {
          "name": "stderr",
          "output_type": "stream",
          "text": [
            "/usr/local/lib/python3.10/dist-packages/keras/src/initializers/initializers.py:120: UserWarning: The initializer RandomNormal is unseeded and being called multiple times, which will return identical values each time (even if the initializer is unseeded). Please update your code to provide a seed to the initializer, or avoid using the same initializer instance more than once.\n",
            "  warnings.warn(\n"
          ]
        },
        {
          "name": "stdout",
          "output_type": "stream",
          "text": [
            "Epoch 1/10\n",
            "19/19 [==============================] - 3s 57ms/step - loss: 2.3017 - accuracy: 0.0984 - val_loss: 2.3013 - val_accuracy: 0.1157\n",
            "Epoch 2/10\n",
            "19/19 [==============================] - 1s 34ms/step - loss: 2.3012 - accuracy: 0.1260 - val_loss: 2.3009 - val_accuracy: 0.1641\n",
            "Epoch 3/10\n",
            "19/19 [==============================] - 1s 39ms/step - loss: 2.3009 - accuracy: 0.1778 - val_loss: 2.3005 - val_accuracy: 0.1997\n",
            "Epoch 4/10\n",
            "19/19 [==============================] - 1s 36ms/step - loss: 2.3005 - accuracy: 0.1882 - val_loss: 2.3001 - val_accuracy: 0.1877\n",
            "Epoch 5/10\n",
            "19/19 [==============================] - 1s 32ms/step - loss: 2.3001 - accuracy: 0.1757 - val_loss: 2.2998 - val_accuracy: 0.1745\n",
            "Epoch 6/10\n",
            "19/19 [==============================] - 1s 32ms/step - loss: 2.2997 - accuracy: 0.1626 - val_loss: 2.2993 - val_accuracy: 0.1614\n",
            "Epoch 7/10\n",
            "19/19 [==============================] - 1s 32ms/step - loss: 2.2993 - accuracy: 0.1524 - val_loss: 2.2989 - val_accuracy: 0.1533\n",
            "Epoch 8/10\n",
            "19/19 [==============================] - 1s 32ms/step - loss: 2.2990 - accuracy: 0.1443 - val_loss: 2.2986 - val_accuracy: 0.1443\n",
            "Epoch 9/10\n",
            "19/19 [==============================] - 1s 37ms/step - loss: 2.2986 - accuracy: 0.1394 - val_loss: 2.2982 - val_accuracy: 0.1379\n",
            "Epoch 10/10\n",
            "19/19 [==============================] - 1s 29ms/step - loss: 2.2983 - accuracy: 0.1373 - val_loss: 2.2979 - val_accuracy: 0.1358\n"
          ]
        },
        {
          "data": {
            "text/plain": [
              "<keras.src.callbacks.History at 0x7c708f14a350>"
            ]
          },
          "execution_count": 31,
          "metadata": {},
          "output_type": "execute_result"
        }
      ],
      "source": [
        "init = tf.initializers.random_normal()\n",
        "activate = 'relu'\n",
        "optimizer = tf.keras.optimizers.SGD(learning_rate=0.01)\n",
        "model_normal = simple_model(init, activate)\n",
        "model_normal.compile(optimizer=optimizer, loss='categorical_crossentropy', metrics=['accuracy'])\n",
        "model_normal.fit(X_train, y_train, epochs=10, batch_size=3200, validation_data=(X_test, y_test))"
      ]
    },
    {
      "cell_type": "code",
      "execution_count": null,
      "metadata": {
        "colab": {
          "base_uri": "https://localhost:8080/"
        },
        "id": "NqH1E0Ew0faN",
        "outputId": "3b0c1a58-b154-4491-aa70-8369895636be"
      },
      "outputs": [
        {
          "name": "stderr",
          "output_type": "stream",
          "text": [
            "/usr/local/lib/python3.10/dist-packages/keras/src/initializers/initializers.py:120: UserWarning: The initializer GlorotUniform is unseeded and being called multiple times, which will return identical values each time (even if the initializer is unseeded). Please update your code to provide a seed to the initializer, or avoid using the same initializer instance more than once.\n",
            "  warnings.warn(\n"
          ]
        },
        {
          "name": "stdout",
          "output_type": "stream",
          "text": [
            "Epoch 1/10\n",
            "19/19 [==============================] - 3s 84ms/step - loss: 2.2993 - accuracy: 0.1102 - val_loss: 2.2686 - val_accuracy: 0.1283\n",
            "Epoch 2/10\n",
            "19/19 [==============================] - 1s 59ms/step - loss: 2.2455 - accuracy: 0.1497 - val_loss: 2.2195 - val_accuracy: 0.1841\n",
            "Epoch 3/10\n",
            "19/19 [==============================] - 1s 57ms/step - loss: 2.1971 - accuracy: 0.2094 - val_loss: 2.1713 - val_accuracy: 0.2460\n",
            "Epoch 4/10\n",
            "19/19 [==============================] - 1s 40ms/step - loss: 2.1475 - accuracy: 0.2623 - val_loss: 2.1190 - val_accuracy: 0.2917\n",
            "Epoch 5/10\n",
            "19/19 [==============================] - 1s 37ms/step - loss: 2.0930 - accuracy: 0.3015 - val_loss: 2.0599 - val_accuracy: 0.3229\n",
            "Epoch 6/10\n",
            "19/19 [==============================] - 1s 35ms/step - loss: 2.0312 - accuracy: 0.3318 - val_loss: 1.9924 - val_accuracy: 0.3529\n",
            "Epoch 7/10\n",
            "19/19 [==============================] - 1s 34ms/step - loss: 1.9613 - accuracy: 0.3582 - val_loss: 1.9159 - val_accuracy: 0.3771\n",
            "Epoch 8/10\n",
            "19/19 [==============================] - 1s 28ms/step - loss: 1.8836 - accuracy: 0.3848 - val_loss: 1.8328 - val_accuracy: 0.4061\n",
            "Epoch 9/10\n",
            "19/19 [==============================] - 1s 37ms/step - loss: 1.8010 - accuracy: 0.4148 - val_loss: 1.7465 - val_accuracy: 0.4386\n",
            "Epoch 10/10\n",
            "19/19 [==============================] - 1s 30ms/step - loss: 1.7165 - accuracy: 0.4483 - val_loss: 1.6603 - val_accuracy: 0.4807\n"
          ]
        },
        {
          "data": {
            "text/plain": [
              "<keras.src.callbacks.History at 0x7c708d1adf30>"
            ]
          },
          "execution_count": 32,
          "metadata": {},
          "output_type": "execute_result"
        }
      ],
      "source": [
        "init = tf.initializers.glorot_uniform()\n",
        "activate = 'relu'\n",
        "optimizer = tf.keras.optimizers.SGD(learning_rate=0.01)\n",
        "model_glorotu = simple_model(init, activate)\n",
        "model_glorotu.compile(optimizer=optimizer, loss='categorical_crossentropy', metrics=['accuracy'])\n",
        "model_glorotu.fit(X_train, y_train, epochs=10, batch_size=3200, validation_data=(X_test, y_test))"
      ]
    },
    {
      "cell_type": "code",
      "execution_count": null,
      "metadata": {
        "colab": {
          "base_uri": "https://localhost:8080/"
        },
        "id": "eoBgee3n0faN",
        "outputId": "7c9c1116-90c5-4aee-ca11-f6f6290dcb5b"
      },
      "outputs": [
        {
          "name": "stderr",
          "output_type": "stream",
          "text": [
            "/usr/local/lib/python3.10/dist-packages/keras/src/initializers/initializers.py:120: UserWarning: The initializer HeUniform is unseeded and being called multiple times, which will return identical values each time (even if the initializer is unseeded). Please update your code to provide a seed to the initializer, or avoid using the same initializer instance more than once.\n",
            "  warnings.warn(\n"
          ]
        },
        {
          "name": "stdout",
          "output_type": "stream",
          "text": [
            "Epoch 1/10\n",
            "19/19 [==============================] - 3s 73ms/step - loss: 2.4598 - accuracy: 0.1911 - val_loss: 2.1214 - val_accuracy: 0.2775\n",
            "Epoch 2/10\n",
            "19/19 [==============================] - 1s 32ms/step - loss: 1.9679 - accuracy: 0.3373 - val_loss: 1.8477 - val_accuracy: 0.3976\n",
            "Epoch 3/10\n",
            "19/19 [==============================] - 1s 29ms/step - loss: 1.7349 - accuracy: 0.4357 - val_loss: 1.6423 - val_accuracy: 0.4821\n",
            "Epoch 4/10\n",
            "19/19 [==============================] - 1s 33ms/step - loss: 1.5491 - accuracy: 0.5130 - val_loss: 1.4714 - val_accuracy: 0.5489\n",
            "Epoch 5/10\n",
            "19/19 [==============================] - 1s 32ms/step - loss: 1.3924 - accuracy: 0.5771 - val_loss: 1.3274 - val_accuracy: 0.6033\n",
            "Epoch 6/10\n",
            "19/19 [==============================] - 0s 20ms/step - loss: 1.2591 - accuracy: 0.6250 - val_loss: 1.2061 - val_accuracy: 0.6496\n",
            "Epoch 7/10\n",
            "19/19 [==============================] - 0s 21ms/step - loss: 1.1461 - accuracy: 0.6617 - val_loss: 1.1044 - val_accuracy: 0.6760\n",
            "Epoch 8/10\n",
            "19/19 [==============================] - 0s 20ms/step - loss: 1.0510 - accuracy: 0.6908 - val_loss: 1.0181 - val_accuracy: 0.7028\n",
            "Epoch 9/10\n",
            "19/19 [==============================] - 0s 19ms/step - loss: 0.9701 - accuracy: 0.7148 - val_loss: 0.9449 - val_accuracy: 0.7263\n",
            "Epoch 10/10\n",
            "19/19 [==============================] - 0s 21ms/step - loss: 0.9004 - accuracy: 0.7331 - val_loss: 0.8815 - val_accuracy: 0.7441\n"
          ]
        },
        {
          "data": {
            "text/plain": [
              "<keras.src.callbacks.History at 0x7c708d572980>"
            ]
          },
          "execution_count": 33,
          "metadata": {},
          "output_type": "execute_result"
        }
      ],
      "source": [
        "init = tf.initializers.he_uniform()\n",
        "activate = 'relu'\n",
        "optimizer = tf.keras.optimizers.SGD(learning_rate=0.01)\n",
        "model_heu = simple_model(init, activate)\n",
        "model_heu.compile(optimizer=optimizer, loss='categorical_crossentropy', metrics=['accuracy'])\n",
        "model_heu.fit(X_train, y_train, epochs=10, batch_size=3200, validation_data=(X_test, y_test))"
      ]
    },
    {
      "cell_type": "code",
      "execution_count": null,
      "metadata": {
        "colab": {
          "base_uri": "https://localhost:8080/",
          "height": 467
        },
        "id": "TGgRS_ga16c0",
        "outputId": "d950f48e-eee3-4cfe-de29-3df76cb7e52c"
      },
      "outputs": [
        {
          "data": {
            "text/plain": [
              "Text(0, 0.5, 'Validation Accuracy')"
            ]
          },
          "execution_count": 34,
          "metadata": {},
          "output_type": "execute_result"
        },
        {
          "data": {
            "image/png": "[encoded data removed]",
            "text/plain": [
              "<Figure size 640x480 with 1 Axes>"
            ]
          },
          "metadata": {},
          "output_type": "display_data"
        }
      ],
      "source": [
        "for i in [model_heu, model_normal, model_glorotu, model_zeros]:\n",
        "    plt.plot(i.history.history['val_accuracy'], label=i.get_config()['layers'][1]['config']['kernel_initializer']['class_name'])\n",
        "\n",
        "plt.legend()\n",
        "plt.xlabel('Epoch')\n",
        "plt.ylabel('Validation Accuracy')"
      ]
    },
    {
      "cell_type": "code",
      "execution_count": null,
      "metadata": {
        "id": "YMxQkC_42jHX"
      },
      "outputs": [],
      "source": [
        "def simple_model_bn(initializer = 'he_uniform', activation='relu'):\n",
        "    return tf.keras.Sequential([layers.Dense(32, activation, input_shape=(784,), kernel_initializer=initializer),\n",
        "                                layers.BatchNormalization(trainable=True, scale=True, center=True),\n",
        "                                layers.Dense(32, activation, kernel_initializer=initializer),\n",
        "                                layers.BatchNormalization(trainable=True, scale=True, center=True),\n",
        "                                layers.Dense(32, activation, kernel_initializer=initializer),\n",
        "                                layers.BatchNormalization(trainable=True, scale=True, center=True),\n",
        "                                layers.Dense(32, activation, kernel_initializer=initializer),\n",
        "                                layers.BatchNormalization(trainable=True, scale=True, center=True),\n",
        "                                layers.Dense(10, activation = 'softmax', kernel_initializer=tf.keras.initializers.glorot_normal())\n",
        "\n",
        "\n",
        "\n",
        "    ])"
      ]
    },
    {
      "cell_type": "code",
      "execution_count": null,
      "metadata": {
        "colab": {
          "base_uri": "https://localhost:8080/"
        },
        "id": "a9atLh6h3pMO",
        "outputId": "9b848a74-b6fc-4dce-b60d-609392da2907"
      },
      "outputs": [
        {
          "name": "stdout",
          "output_type": "stream",
          "text": [
            "Model: \"sequential_11\"\n",
            "_________________________________________________________________\n",
            " Layer (type)                Output Shape              Param #   \n",
            "=================================================================\n",
            " dense_55 (Dense)            (None, 32)                25120     \n",
            "                                                                 \n",
            " batch_normalization (Batch  (None, 32)                128       \n",
            " Normalization)                                                  \n",
            "                                                                 \n",
            " dense_56 (Dense)            (None, 32)                1056      \n",
            "                                                                 \n",
            " batch_normalization_1 (Bat  (None, 32)                128       \n",
            " chNormalization)                                                \n",
            "                                                                 \n",
            " dense_57 (Dense)            (None, 32)                1056      \n",
            "                                                                 \n",
            " batch_normalization_2 (Bat  (None, 32)                128       \n",
            " chNormalization)                                                \n",
            "                                                                 \n",
            " dense_58 (Dense)            (None, 32)                1056      \n",
            "                                                                 \n",
            " batch_normalization_3 (Bat  (None, 32)                128       \n",
            " chNormalization)                                                \n",
            "                                                                 \n",
            " dense_59 (Dense)            (None, 10)                330       \n",
            "                                                                 \n",
            "=================================================================\n",
            "Total params: 29130 (113.79 KB)\n",
            "Trainable params: 28874 (112.79 KB)\n",
            "Non-trainable params: 256 (1.00 KB)\n",
            "_________________________________________________________________\n"
          ]
        }
      ],
      "source": [
        "simple_model_bn().summary()"
      ]
    },
    {
      "cell_type": "code",
      "execution_count": null,
      "metadata": {
        "colab": {
          "base_uri": "https://localhost:8080/"
        },
        "id": "KqCPC6Pu3t5W",
        "outputId": "74646ecc-4924-47b1-b899-e41d519c606e"
      },
      "outputs": [
        {
          "name": "stderr",
          "output_type": "stream",
          "text": [
            "/usr/local/lib/python3.10/dist-packages/keras/src/initializers/initializers.py:120: UserWarning: The initializer HeUniform is unseeded and being called multiple times, which will return identical values each time (even if the initializer is unseeded). Please update your code to provide a seed to the initializer, or avoid using the same initializer instance more than once.\n",
            "  warnings.warn(\n"
          ]
        },
        {
          "name": "stdout",
          "output_type": "stream",
          "text": [
            "Epoch 1/10\n",
            "19/19 [==============================] - 4s 77ms/step - loss: 2.5622 - accuracy: 0.1881 - val_loss: 2.3451 - val_accuracy: 0.1562\n",
            "Epoch 2/10\n",
            "19/19 [==============================] - 1s 51ms/step - loss: 1.9902 - accuracy: 0.3564 - val_loss: 2.1687 - val_accuracy: 0.2307\n",
            "Epoch 3/10\n",
            "19/19 [==============================] - 1s 44ms/step - loss: 1.6976 - accuracy: 0.4601 - val_loss: 1.9892 - val_accuracy: 0.3275\n",
            "Epoch 4/10\n",
            "19/19 [==============================] - 1s 42ms/step - loss: 1.5030 - accuracy: 0.5380 - val_loss: 1.8073 - val_accuracy: 0.4336\n",
            "Epoch 5/10\n",
            "19/19 [==============================] - 1s 57ms/step - loss: 1.3569 - accuracy: 0.5975 - val_loss: 1.6319 - val_accuracy: 0.5396\n",
            "Epoch 6/10\n",
            "19/19 [==============================] - 1s 31ms/step - loss: 1.2439 - accuracy: 0.6408 - val_loss: 1.4712 - val_accuracy: 0.6062\n",
            "Epoch 7/10\n",
            "19/19 [==============================] - 1s 30ms/step - loss: 1.1531 - accuracy: 0.6733 - val_loss: 1.3324 - val_accuracy: 0.6532\n",
            "Epoch 8/10\n",
            "19/19 [==============================] - 1s 41ms/step - loss: 1.0743 - accuracy: 0.6992 - val_loss: 1.2131 - val_accuracy: 0.6925\n",
            "Epoch 9/10\n",
            "19/19 [==============================] - 1s 42ms/step - loss: 1.0083 - accuracy: 0.7196 - val_loss: 1.1120 - val_accuracy: 0.7189\n",
            "Epoch 10/10\n",
            "19/19 [==============================] - 1s 38ms/step - loss: 0.9500 - accuracy: 0.7377 - val_loss: 1.0278 - val_accuracy: 0.7375\n"
          ]
        },
        {
          "data": {
            "text/plain": [
              "<keras.src.callbacks.History at 0x7c70a8904190>"
            ]
          },
          "execution_count": 39,
          "metadata": {},
          "output_type": "execute_result"
        }
      ],
      "source": [
        "init = tf.keras.initializers.he_uniform()\n",
        "activate = 'relu'\n",
        "\n",
        "optimizer = tf.keras.optimizers.SGD(0.01)\n",
        "model_bn = simple_model_bn(init, activate)\n",
        "model_bn.compile(optimizer=optimizer, loss='categorical_crossentropy', metrics=['accuracy'])\n",
        "model_bn.fit(X_train, y_train, epochs=10, batch_size=3200, validation_data = (X_test, y_test))"
      ]
    },
    {
      "cell_type": "code",
      "execution_count": null,
      "metadata": {
        "colab": {
          "base_uri": "https://localhost:8080/"
        },
        "id": "UE2n198J4VlU",
        "outputId": "840978fa-7f5c-4a9a-b3c6-ee76e4413f3e"
      },
      "outputs": [
        {
          "name": "stderr",
          "output_type": "stream",
          "text": [
            "/usr/local/lib/python3.10/dist-packages/keras/src/initializers/initializers.py:120: UserWarning: The initializer RandomUniform is unseeded and being called multiple times, which will return identical values each time (even if the initializer is unseeded). Please update your code to provide a seed to the initializer, or avoid using the same initializer instance more than once.\n",
            "  warnings.warn(\n"
          ]
        },
        {
          "name": "stdout",
          "output_type": "stream",
          "text": [
            "Epoch 1/10\n",
            "19/19 [==============================] - 2s 43ms/step - loss: 1.0779 - accuracy: 0.6728 - val_loss: 2.2973 - val_accuracy: 0.1450\n",
            "Epoch 2/10\n",
            "19/19 [==============================] - 1s 35ms/step - loss: 0.4897 - accuracy: 0.8657 - val_loss: 2.2923 - val_accuracy: 0.2994\n",
            "Epoch 3/10\n",
            "19/19 [==============================] - 1s 39ms/step - loss: 0.3713 - accuracy: 0.8996 - val_loss: 2.2862 - val_accuracy: 0.1993\n",
            "Epoch 4/10\n",
            "19/19 [==============================] - 1s 39ms/step - loss: 0.3111 - accuracy: 0.9166 - val_loss: 2.2780 - val_accuracy: 0.1260\n",
            "Epoch 5/10\n",
            "19/19 [==============================] - 1s 40ms/step - loss: 0.2723 - accuracy: 0.9264 - val_loss: 2.2669 - val_accuracy: 0.1102\n",
            "Epoch 6/10\n",
            "19/19 [==============================] - 1s 29ms/step - loss: 0.2441 - accuracy: 0.9338 - val_loss: 2.2518 - val_accuracy: 0.1114\n",
            "Epoch 7/10\n",
            "19/19 [==============================] - 1s 27ms/step - loss: 0.2219 - accuracy: 0.9404 - val_loss: 2.2311 - val_accuracy: 0.1238\n",
            "Epoch 8/10\n",
            "19/19 [==============================] - 0s 26ms/step - loss: 0.2043 - accuracy: 0.9460 - val_loss: 2.2035 - val_accuracy: 0.1551\n",
            "Epoch 9/10\n",
            "19/19 [==============================] - 1s 27ms/step - loss: 0.1886 - accuracy: 0.9510 - val_loss: 2.1674 - val_accuracy: 0.2152\n",
            "Epoch 10/10\n",
            "19/19 [==============================] - 1s 28ms/step - loss: 0.1770 - accuracy: 0.9532 - val_loss: 2.1221 - val_accuracy: 0.2830\n"
          ]
        },
        {
          "data": {
            "text/plain": [
              "<keras.src.callbacks.History at 0x7c70a7662dd0>"
            ]
          },
          "execution_count": 41,
          "metadata": {},
          "output_type": "execute_result"
        }
      ],
      "source": [
        "init = tf.keras.initializers.random_uniform()\n",
        "activate = 'relu'\n",
        "\n",
        "optimizer = tf.keras.optimizers.Adagrad(learning_rate = 0.01)\n",
        "model_bn = simple_model_bn(init, activate)\n",
        "model_bn.compile(optimizer=optimizer, loss='categorical_crossentropy', metrics=['accuracy'])\n",
        "model_bn.fit(X_train, y_train, epochs=10, batch_size=3200, validation_data = (X_test, y_test))"
      ]
    },
    {
      "cell_type": "code",
      "execution_count": null,
      "metadata": {
        "colab": {
          "base_uri": "https://localhost:8080/"
        },
        "id": "5Lj9lFVL5KPZ",
        "outputId": "5e6c7a44-ed77-4b9a-abf2-2893d6421e94"
      },
      "outputs": [
        {
          "name": "stdout",
          "output_type": "stream",
          "text": [
            "Epoch 1/10\n",
            "19/19 [==============================] - 4s 73ms/step - loss: 1.1387 - accuracy: 0.6486 - val_loss: 2.2974 - val_accuracy: 0.1018\n",
            "Epoch 2/10\n",
            "19/19 [==============================] - 1s 27ms/step - loss: 0.4902 - accuracy: 0.8655 - val_loss: 2.2916 - val_accuracy: 0.1031\n",
            "Epoch 3/10\n",
            "19/19 [==============================] - 1s 28ms/step - loss: 0.3601 - accuracy: 0.9015 - val_loss: 2.2848 - val_accuracy: 0.1146\n",
            "Epoch 4/10\n",
            "19/19 [==============================] - 0s 25ms/step - loss: 0.3004 - accuracy: 0.9189 - val_loss: 2.2764 - val_accuracy: 0.1344\n",
            "Epoch 5/10\n",
            "19/19 [==============================] - 1s 27ms/step - loss: 0.2626 - accuracy: 0.9300 - val_loss: 2.2642 - val_accuracy: 0.1678\n",
            "Epoch 6/10\n",
            "19/19 [==============================] - 1s 28ms/step - loss: 0.2361 - accuracy: 0.9372 - val_loss: 2.2494 - val_accuracy: 0.1806\n",
            "Epoch 7/10\n",
            "19/19 [==============================] - 1s 44ms/step - loss: 0.2149 - accuracy: 0.9441 - val_loss: 2.2289 - val_accuracy: 0.2136\n",
            "Epoch 8/10\n",
            "19/19 [==============================] - 1s 39ms/step - loss: 0.1979 - accuracy: 0.9478 - val_loss: 2.2012 - val_accuracy: 0.2543\n",
            "Epoch 9/10\n",
            "19/19 [==============================] - 1s 42ms/step - loss: 0.1838 - accuracy: 0.9529 - val_loss: 2.1662 - val_accuracy: 0.3172\n",
            "Epoch 10/10\n",
            "19/19 [==============================] - 1s 47ms/step - loss: 0.1714 - accuracy: 0.9560 - val_loss: 2.1203 - val_accuracy: 0.4023\n"
          ]
        },
        {
          "data": {
            "text/plain": [
              "<keras.src.callbacks.History at 0x7c70a75f4d60>"
            ]
          },
          "execution_count": 43,
          "metadata": {},
          "output_type": "execute_result"
        }
      ],
      "source": [
        "init = tf.keras.initializers.random_uniform()\n",
        "activate = 'relu'\n",
        "\n",
        "optimizer = tf.keras.optimizers.Adagrad(learning_rate=0.01)\n",
        "model_bn_ad = simple_model_bn(init, activate)\n",
        "model_bn_ad.compile(optimizer=optimizer, loss='categorical_crossentropy', metrics=['accuracy'])\n",
        "model_bn_ad.fit(X_train, y_train, epochs=10, batch_size=3200, validation_data = (X_test, y_test))"
      ]
    },
    {
      "cell_type": "code",
      "execution_count": null,
      "metadata": {
        "colab": {
          "base_uri": "https://localhost:8080/"
        },
        "id": "M9gEbPir6U6F",
        "outputId": "7e54e2c7-ea3c-4fdc-9323-b80e9928b2eb"
      },
      "outputs": [
        {
          "name": "stdout",
          "output_type": "stream",
          "text": [
            "Epoch 1/10\n",
            "19/19 [==============================] - 5s 64ms/step - loss: 0.8479 - accuracy: 0.7418 - val_loss: 2.0891 - val_accuracy: 0.2794\n",
            "Epoch 2/10\n",
            "19/19 [==============================] - 0s 26ms/step - loss: 0.2621 - accuracy: 0.9223 - val_loss: 1.9018 - val_accuracy: 0.3467\n",
            "Epoch 3/10\n",
            "19/19 [==============================] - 1s 28ms/step - loss: 0.1760 - accuracy: 0.9496 - val_loss: 1.7441 - val_accuracy: 0.5064\n",
            "Epoch 4/10\n",
            "19/19 [==============================] - 1s 28ms/step - loss: 0.1302 - accuracy: 0.9624 - val_loss: 1.5697 - val_accuracy: 0.5891\n",
            "Epoch 5/10\n",
            "19/19 [==============================] - 1s 27ms/step - loss: 0.1004 - accuracy: 0.9707 - val_loss: 1.3999 - val_accuracy: 0.6530\n",
            "Epoch 6/10\n",
            "19/19 [==============================] - 0s 26ms/step - loss: 0.0811 - accuracy: 0.9767 - val_loss: 1.1602 - val_accuracy: 0.7690\n",
            "Epoch 7/10\n",
            "19/19 [==============================] - 1s 28ms/step - loss: 0.0670 - accuracy: 0.9808 - val_loss: 0.9214 - val_accuracy: 0.8796\n",
            "Epoch 8/10\n",
            "19/19 [==============================] - 1s 27ms/step - loss: 0.0545 - accuracy: 0.9835 - val_loss: 0.7638 - val_accuracy: 0.9103\n",
            "Epoch 9/10\n",
            "19/19 [==============================] - 1s 36ms/step - loss: 0.0491 - accuracy: 0.9856 - val_loss: 0.5441 - val_accuracy: 0.9312\n",
            "Epoch 10/10\n",
            "19/19 [==============================] - 1s 39ms/step - loss: 0.0447 - accuracy: 0.9866 - val_loss: 0.3846 - val_accuracy: 0.9458\n"
          ]
        },
        {
          "data": {
            "text/plain": [
              "<keras.src.callbacks.History at 0x7c70a404d7b0>"
            ]
          },
          "execution_count": 44,
          "metadata": {},
          "output_type": "execute_result"
        }
      ],
      "source": [
        "init = tf.keras.initializers.random_uniform()\n",
        "activate = 'relu'\n",
        "\n",
        "optimizer = tf.keras.optimizers.Adam(learning_rate=0.01)\n",
        "model_bn_adam = simple_model_bn(init, activate)\n",
        "model_bn_adam.compile(optimizer=optimizer, loss='categorical_crossentropy', metrics=['accuracy'])\n",
        "model_bn_adam.fit(X_train, y_train, epochs=10, batch_size=3200, validation_data = (X_test, y_test))"
      ]
    },
    {
      "cell_type": "code",
      "execution_count": null,
      "metadata": {
        "id": "_n9IxdkA6X9y"
      },
      "outputs": [],
      "source": [
        "from tensorflow.keras.callbacks import EarlyStopping"
      ]
    },
    {
      "cell_type": "code",
      "execution_count": null,
      "metadata": {
        "colab": {
          "base_uri": "https://localhost:8080/"
        },
        "id": "_CFQCCPl6Zey",
        "outputId": "e419b961-f073-485a-ab46-5d30bf73687d"
      },
      "outputs": [
        {
          "name": "stdout",
          "output_type": "stream",
          "text": [
            "Epoch 1/10\n",
            "19/19 [==============================] - 4s 42ms/step - loss: 0.8097 - accuracy: 0.7527 - val_loss: 2.1288 - val_accuracy: 0.2938\n",
            "Epoch 2/10\n",
            "19/19 [==============================] - 1s 30ms/step - loss: 0.2556 - accuracy: 0.9243 - val_loss: 1.9333 - val_accuracy: 0.3815\n",
            "Epoch 3/10\n",
            "19/19 [==============================] - 0s 26ms/step - loss: 0.1745 - accuracy: 0.9478 - val_loss: 1.7630 - val_accuracy: 0.4609\n",
            "Epoch 4/10\n",
            "19/19 [==============================] - 1s 28ms/step - loss: 0.1304 - accuracy: 0.9614 - val_loss: 1.6122 - val_accuracy: 0.5416\n",
            "Epoch 5/10\n",
            "19/19 [==============================] - 1s 28ms/step - loss: 0.1039 - accuracy: 0.9689 - val_loss: 1.4226 - val_accuracy: 0.6765\n",
            "Epoch 6/10\n",
            "19/19 [==============================] - 0s 26ms/step - loss: 0.0844 - accuracy: 0.9756 - val_loss: 1.2491 - val_accuracy: 0.7585\n",
            "Epoch 7/10\n",
            "19/19 [==============================] - 1s 42ms/step - loss: 0.0686 - accuracy: 0.9790 - val_loss: 0.9618 - val_accuracy: 0.8572\n",
            "Epoch 8/10\n",
            "19/19 [==============================] - 1s 39ms/step - loss: 0.0600 - accuracy: 0.9825 - val_loss: 0.7617 - val_accuracy: 0.8765\n",
            "Epoch 9/10\n",
            "19/19 [==============================] - 1s 40ms/step - loss: 0.0504 - accuracy: 0.9847 - val_loss: 0.6155 - val_accuracy: 0.8952\n",
            "Epoch 10/10\n",
            "19/19 [==============================] - 1s 37ms/step - loss: 0.0456 - accuracy: 0.9863 - val_loss: 0.4550 - val_accuracy: 0.9101\n",
            "Train Acc: 0.934416651725769 Test Acc: 0.910099983215332\n"
          ]
        }
      ],
      "source": [
        "init = tf.keras.initializers.random_uniform()\n",
        "activate = 'relu'\n",
        "\n",
        "optimizer = tf.keras.optimizers.Adam(learning_rate=0.01)\n",
        "model_bn_adam = simple_model_bn(init, activate)\n",
        "model_bn_adam.compile(optimizer=optimizer, loss='categorical_crossentropy', metrics=['accuracy'])\n",
        "\n",
        "es = EarlyStopping(monitor='val_loss', mode='min', patience=10, restore_best_weights=True, verbose=1)\n",
        "\n",
        "history = model_bn_adam.fit(X_train, y_train, epochs=10, batch_size=3200, validation_data = (X_test, y_test))\n",
        "\n",
        "_, train_acc = model_bn_adam.evaluate(X_train, y_train, verbose=0)\n",
        "_, test_acc = model_bn_adam.evaluate(X_test, y_test, verbose=0)\n",
        "print('Train Acc:', train_acc, 'Test Acc:', test_acc)"
      ]
    },
    {
      "cell_type": "code",
      "execution_count": null,
      "metadata": {
        "colab": {
          "base_uri": "https://localhost:8080/"
        },
        "id": "E6Oeyx9N7BOT",
        "outputId": "fb1e5b7e-dd95-4ef8-8038-66dae9437308"
      },
      "outputs": [
        {
          "name": "stdout",
          "output_type": "stream",
          "text": [
            "Restoring model weights from the end of the best epoch: 8.\n",
            "Epoch 18: early stopping\n",
            "Train Acc: 0.9842833280563354 Test Acc: 0.9599999785423279\n"
          ]
        }
      ],
      "source": [
        "init = tf.keras.initializers.random_uniform()\n",
        "activate = 'relu'\n",
        "\n",
        "optimizer = tf.keras.optimizers.Adam(learning_rate=0.01)\n",
        "model_bn_adam = simple_model_bn(init, activate)\n",
        "model_bn_adam.compile(optimizer=optimizer, loss='categorical_crossentropy', metrics=['accuracy'])\n",
        "\n",
        "es = EarlyStopping(monitor='val_loss', mode='min', patience=10, restore_best_weights=True, verbose=1)\n",
        "\n",
        "history = model_bn_adam.fit(X_train, y_train, epochs=2000, callbacks=[es], validation_data = (X_test, y_test), verbose=0)\n",
        "\n",
        "_, train_acc = model_bn_adam.evaluate(X_train, y_train, verbose=0)\n",
        "_, test_acc = model_bn_adam.evaluate(X_test, y_test, verbose=0)\n",
        "print('Train Acc:', train_acc, 'Test Acc:', test_acc)"
      ]
    },
    {
      "cell_type": "code",
      "execution_count": null,
      "metadata": {
        "colab": {
          "background_save": true,
          "base_uri": "https://localhost:8080/"
        },
        "id": "YpcIc8fv7m7h",
        "outputId": "a5eeab32-9195-4712-db88-ac014fd763da"
      },
      "outputs": [
        {
          "name": "stdout",
          "output_type": "stream",
          "text": [
            "Restoring model weights from the end of the best epoch: 6.\n",
            "Epoch 16: early stopping\n",
            "Train Acc: 0.9833333492279053 Test Acc: 0.9634000062942505\n"
          ]
        }
      ],
      "source": [
        "init = tf.keras.initializers.random_uniform()\n",
        "activate = 'relu'\n",
        "\n",
        "optimizer = tf.keras.optimizers.Adam(learning_rate=0.01)\n",
        "model_bn_adam = simple_model_bn(init, activate)\n",
        "model_bn_adam.compile(optimizer=optimizer, loss='categorical_crossentropy', metrics=['accuracy'])\n",
        "\n",
        "es = EarlyStopping(monitor='val_loss', mode='min', patience=10, restore_best_weights=True, verbose=1)\n",
        "\n",
        "history = model_bn_adam.fit(X_train, y_train, epochs=2000, callbacks=[es], validation_data = (X_test, y_test), verbose=0)\n",
        "\n",
        "_, train_acc = model_bn_adam.evaluate(X_train, y_train, verbose=0)\n",
        "_, test_acc = model_bn_adam.evaluate(X_test, y_test, verbose=0)\n",
        "print('Train Acc:', train_acc, 'Test Acc:', test_acc)"
      ]
    },
    {
      "cell_type": "code",
      "execution_count": null,
      "metadata": {
        "id": "XkUvrnor75Ac"
      },
      "outputs": [],
      "source": []
    }
  ],
  "metadata": {
    "colab": {
      "provenance": []
    },
    "kernelspec": {
      "display_name": "Python 3",
      "language": "python",
      "name": "python3"
    },
    "language_info": {
      "codemirror_mode": {
        "name": "ipython",
        "version": 3
      },
      "file_extension": ".py",
      "mimetype": "text/x-python",
      "name": "python",
      "nbconvert_exporter": "python",
      "pygments_lexer": "ipython3",
      "version": "3.11.4"
    }
  },
  "nbformat": 4,
  "nbformat_minor": 0
}