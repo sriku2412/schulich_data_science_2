{
 "cells": [
  {
   "cell_type": "code",
   "execution_count": 6,
   "metadata": {},
   "outputs": [],
   "source": [
    "import numpy as np\n",
    "import pandas as pd\n",
    "import matplotlib.pyplot as plt\n",
    "import statsmodels.api as sm\n",
    "from sklearn import linear_model as lm\n",
    "import seaborn as sns"
   ]
  },
  {
   "cell_type": "code",
   "execution_count": 7,
   "metadata": {},
   "outputs": [],
   "source": [
    "x_1 = np.random.uniform(10,40,100)\n",
    "x_2 = np.random.uniform(-50,20,100)\n",
    "x_3 = np.random.uniform(20,60,100)\n",
    "x_4 = np.random.uniform(10,40,100)\n",
    "x_5 = np.random.uniform(-50,20,100)\n",
    "x_6 = np.random.uniform(20,60,100)\n",
    "epsilon = np.random.normal(0,10,100)"
   ]
  },
  {
   "cell_type": "code",
   "execution_count": 31,
   "metadata": {},
   "outputs": [
    {
     "data": {
      "text/html": [
       "<div>\n",
       "<style scoped>\n",
       "    .dataframe tbody tr th:only-of-type {\n",
       "        vertical-align: middle;\n",
       "    }\n",
       "\n",
       "    .dataframe tbody tr th {\n",
       "        vertical-align: top;\n",
       "    }\n",
       "\n",
       "    .dataframe thead th {\n",
       "        text-align: right;\n",
       "    }\n",
       "</style>\n",
       "<table border=\"1\" class=\"dataframe\">\n",
       "  <thead>\n",
       "    <tr style=\"text-align: right;\">\n",
       "      <th></th>\n",
       "      <th>count</th>\n",
       "      <th>mean</th>\n",
       "      <th>std</th>\n",
       "      <th>min</th>\n",
       "      <th>25%</th>\n",
       "      <th>50%</th>\n",
       "      <th>75%</th>\n",
       "      <th>max</th>\n",
       "    </tr>\n",
       "  </thead>\n",
       "  <tbody>\n",
       "    <tr>\n",
       "      <th>epsilon</th>\n",
       "      <td>100.0</td>\n",
       "      <td>-1.010277</td>\n",
       "      <td>10.177064</td>\n",
       "      <td>-33.489612</td>\n",
       "      <td>-7.913786</td>\n",
       "      <td>-2.283365</td>\n",
       "      <td>5.619137</td>\n",
       "      <td>24.046536</td>\n",
       "    </tr>\n",
       "  </tbody>\n",
       "</table>\n",
       "</div>"
      ],
      "text/plain": [
       "         count      mean        std        min       25%       50%       75%  \\\n",
       "epsilon  100.0 -1.010277  10.177064 -33.489612 -7.913786 -2.283365  5.619137   \n",
       "\n",
       "               max  \n",
       "epsilon  24.046536  "
      ]
     },
     "execution_count": 31,
     "metadata": {},
     "output_type": "execute_result"
    }
   ],
   "source": [
    "df = pd.DataFrame(epsilon,columns=['epsilon'])\n",
    "df.describe(include='all').transpose()"
   ]
  },
  {
   "cell_type": "code",
   "execution_count": 8,
   "metadata": {},
   "outputs": [],
   "source": [
    "y=-30+1.3*x_1+1.6*x_2+1.1*x_3+0.7*x_4-2.1*x_5-0.9*x_6+epsilon"
   ]
  },
  {
   "cell_type": "code",
   "execution_count": 27,
   "metadata": {},
   "outputs": [
    {
     "data": {
      "text/plain": [
       "<Axes: >"
      ]
     },
     "execution_count": 27,
     "metadata": {},
     "output_type": "execute_result"
    },
    {
     "data": {
      "image/png": "[encoded data removed]",
      "text/plain": [
       "<Figure size 640x480 with 1 Axes>"
      ]
     },
     "metadata": {},
     "output_type": "display_data"
    }
   ],
   "source": [
    "sns.boxplot([x_1,x_2,x_3,x_4,x_5,x_6,epsilon,y],orient='v')"
   ]
  },
  {
   "cell_type": "code",
   "execution_count": 12,
   "metadata": {},
   "outputs": [],
   "source": [
    "X_ols=pd.DataFrame()\n",
    "X_ols['Constant']=pd.Series(np.ones(100))\n",
    "X_ols['X1'] = pd.Series(x_1)\n",
    "X_ols['X2'] = pd.Series(x_2)\n",
    "X_ols['X3'] = pd.Series(x_3)\n",
    "X_ols['X4'] = pd.Series(x_4)\n",
    "X_ols['X5'] = pd.Series(x_5)\n",
    "X_ols['X6'] = pd.Series(x_6)"
   ]
  },
  {
   "cell_type": "code",
   "execution_count": 13,
   "metadata": {},
   "outputs": [
    {
     "data": {
      "text/html": [
       "<table class=\"simpletable\">\n",
       "<caption>OLS Regression Results</caption>\n",
       "<tr>\n",
       "  <th>Dep. Variable:</th>            <td>y</td>        <th>  R-squared:         </th> <td>   0.968</td>\n",
       "</tr>\n",
       "<tr>\n",
       "  <th>Model:</th>                   <td>OLS</td>       <th>  Adj. R-squared:    </th> <td>   0.965</td>\n",
       "</tr>\n",
       "<tr>\n",
       "  <th>Method:</th>             <td>Least Squares</td>  <th>  F-statistic:       </th> <td>   462.4</td>\n",
       "</tr>\n",
       "<tr>\n",
       "  <th>Date:</th>             <td>Mon, 02 Oct 2023</td> <th>  Prob (F-statistic):</th> <td>6.21e-67</td>\n",
       "</tr>\n",
       "<tr>\n",
       "  <th>Time:</th>                 <td>19:42:51</td>     <th>  Log-Likelihood:    </th> <td> -371.30</td>\n",
       "</tr>\n",
       "<tr>\n",
       "  <th>No. Observations:</th>      <td>   100</td>      <th>  AIC:               </th> <td>   756.6</td>\n",
       "</tr>\n",
       "<tr>\n",
       "  <th>Df Residuals:</th>          <td>    93</td>      <th>  BIC:               </th> <td>   774.8</td>\n",
       "</tr>\n",
       "<tr>\n",
       "  <th>Df Model:</th>              <td>     6</td>      <th>                     </th>     <td> </td>   \n",
       "</tr>\n",
       "<tr>\n",
       "  <th>Covariance Type:</th>      <td>nonrobust</td>    <th>                     </th>     <td> </td>   \n",
       "</tr>\n",
       "</table>\n",
       "<table class=\"simpletable\">\n",
       "<tr>\n",
       "      <td></td>        <th>coef</th>     <th>std err</th>      <th>t</th>      <th>P>|t|</th>  <th>[0.025</th>    <th>0.975]</th>  \n",
       "</tr>\n",
       "<tr>\n",
       "  <th>Constant</th> <td>  -22.3079</td> <td>    7.441</td> <td>   -2.998</td> <td> 0.003</td> <td>  -37.084</td> <td>   -7.532</td>\n",
       "</tr>\n",
       "<tr>\n",
       "  <th>X1</th>       <td>    1.3622</td> <td>    0.125</td> <td>   10.889</td> <td> 0.000</td> <td>    1.114</td> <td>    1.611</td>\n",
       "</tr>\n",
       "<tr>\n",
       "  <th>X2</th>       <td>    1.5801</td> <td>    0.050</td> <td>   31.679</td> <td> 0.000</td> <td>    1.481</td> <td>    1.679</td>\n",
       "</tr>\n",
       "<tr>\n",
       "  <th>X3</th>       <td>    1.1005</td> <td>    0.089</td> <td>   12.345</td> <td> 0.000</td> <td>    0.923</td> <td>    1.278</td>\n",
       "</tr>\n",
       "<tr>\n",
       "  <th>X4</th>       <td>    0.6429</td> <td>    0.124</td> <td>    5.201</td> <td> 0.000</td> <td>    0.397</td> <td>    0.888</td>\n",
       "</tr>\n",
       "<tr>\n",
       "  <th>X5</th>       <td>   -2.0665</td> <td>    0.054</td> <td>  -38.566</td> <td> 0.000</td> <td>   -2.173</td> <td>   -1.960</td>\n",
       "</tr>\n",
       "<tr>\n",
       "  <th>X6</th>       <td>   -1.1048</td> <td>    0.106</td> <td>  -10.399</td> <td> 0.000</td> <td>   -1.316</td> <td>   -0.894</td>\n",
       "</tr>\n",
       "</table>\n",
       "<table class=\"simpletable\">\n",
       "<tr>\n",
       "  <th>Omnibus:</th>       <td> 1.687</td> <th>  Durbin-Watson:     </th> <td>   2.271</td>\n",
       "</tr>\n",
       "<tr>\n",
       "  <th>Prob(Omnibus):</th> <td> 0.430</td> <th>  Jarque-Bera (JB):  </th> <td>   1.169</td>\n",
       "</tr>\n",
       "<tr>\n",
       "  <th>Skew:</th>          <td> 0.232</td> <th>  Prob(JB):          </th> <td>   0.557</td>\n",
       "</tr>\n",
       "<tr>\n",
       "  <th>Kurtosis:</th>      <td> 3.255</td> <th>  Cond. No.          </th> <td>    525.</td>\n",
       "</tr>\n",
       "</table><br/><br/>Notes:<br/>[1] Standard Errors assume that the covariance matrix of the errors is correctly specified."
      ],
      "text/latex": [
       "\\begin{center}\n",
       "\\begin{tabular}{lclc}\n",
       "\\toprule\n",
       "\\textbf{Dep. Variable:}    &        y         & \\textbf{  R-squared:         } &     0.968   \\\\\n",
       "\\textbf{Model:}            &       OLS        & \\textbf{  Adj. R-squared:    } &     0.965   \\\\\n",
       "\\textbf{Method:}           &  Least Squares   & \\textbf{  F-statistic:       } &     462.4   \\\\\n",
       "\\textbf{Date:}             & Mon, 02 Oct 2023 & \\textbf{  Prob (F-statistic):} &  6.21e-67   \\\\\n",
       "\\textbf{Time:}             &     19:42:51     & \\textbf{  Log-Likelihood:    } &   -371.30   \\\\\n",
       "\\textbf{No. Observations:} &         100      & \\textbf{  AIC:               } &     756.6   \\\\\n",
       "\\textbf{Df Residuals:}     &          93      & \\textbf{  BIC:               } &     774.8   \\\\\n",
       "\\textbf{Df Model:}         &           6      & \\textbf{                     } &             \\\\\n",
       "\\textbf{Covariance Type:}  &    nonrobust     & \\textbf{                     } &             \\\\\n",
       "\\bottomrule\n",
       "\\end{tabular}\n",
       "\\begin{tabular}{lcccccc}\n",
       "                  & \\textbf{coef} & \\textbf{std err} & \\textbf{t} & \\textbf{P$> |$t$|$} & \\textbf{[0.025} & \\textbf{0.975]}  \\\\\n",
       "\\midrule\n",
       "\\textbf{Constant} &     -22.3079  &        7.441     &    -2.998  &         0.003        &      -37.084    &       -7.532     \\\\\n",
       "\\textbf{X1}       &       1.3622  &        0.125     &    10.889  &         0.000        &        1.114    &        1.611     \\\\\n",
       "\\textbf{X2}       &       1.5801  &        0.050     &    31.679  &         0.000        &        1.481    &        1.679     \\\\\n",
       "\\textbf{X3}       &       1.1005  &        0.089     &    12.345  &         0.000        &        0.923    &        1.278     \\\\\n",
       "\\textbf{X4}       &       0.6429  &        0.124     &     5.201  &         0.000        &        0.397    &        0.888     \\\\\n",
       "\\textbf{X5}       &      -2.0665  &        0.054     &   -38.566  &         0.000        &       -2.173    &       -1.960     \\\\\n",
       "\\textbf{X6}       &      -1.1048  &        0.106     &   -10.399  &         0.000        &       -1.316    &       -0.894     \\\\\n",
       "\\bottomrule\n",
       "\\end{tabular}\n",
       "\\begin{tabular}{lclc}\n",
       "\\textbf{Omnibus:}       &  1.687 & \\textbf{  Durbin-Watson:     } &    2.271  \\\\\n",
       "\\textbf{Prob(Omnibus):} &  0.430 & \\textbf{  Jarque-Bera (JB):  } &    1.169  \\\\\n",
       "\\textbf{Skew:}          &  0.232 & \\textbf{  Prob(JB):          } &    0.557  \\\\\n",
       "\\textbf{Kurtosis:}      &  3.255 & \\textbf{  Cond. No.          } &     525.  \\\\\n",
       "\\bottomrule\n",
       "\\end{tabular}\n",
       "%\\caption{OLS Regression Results}\n",
       "\\end{center}\n",
       "\n",
       "Notes: \\newline\n",
       " [1] Standard Errors assume that the covariance matrix of the errors is correctly specified."
      ],
      "text/plain": [
       "<class 'statsmodels.iolib.summary.Summary'>\n",
       "\"\"\"\n",
       "                            OLS Regression Results                            \n",
       "==============================================================================\n",
       "Dep. Variable:                      y   R-squared:                       0.968\n",
       "Model:                            OLS   Adj. R-squared:                  0.965\n",
       "Method:                 Least Squares   F-statistic:                     462.4\n",
       "Date:                Mon, 02 Oct 2023   Prob (F-statistic):           6.21e-67\n",
       "Time:                        19:42:51   Log-Likelihood:                -371.30\n",
       "No. Observations:                 100   AIC:                             756.6\n",
       "Df Residuals:                      93   BIC:                             774.8\n",
       "Df Model:                           6                                         \n",
       "Covariance Type:            nonrobust                                         \n",
       "==============================================================================\n",
       "                 coef    std err          t      P>|t|      [0.025      0.975]\n",
       "------------------------------------------------------------------------------\n",
       "Constant     -22.3079      7.441     -2.998      0.003     -37.084      -7.532\n",
       "X1             1.3622      0.125     10.889      0.000       1.114       1.611\n",
       "X2             1.5801      0.050     31.679      0.000       1.481       1.679\n",
       "X3             1.1005      0.089     12.345      0.000       0.923       1.278\n",
       "X4             0.6429      0.124      5.201      0.000       0.397       0.888\n",
       "X5            -2.0665      0.054    -38.566      0.000      -2.173      -1.960\n",
       "X6            -1.1048      0.106    -10.399      0.000      -1.316      -0.894\n",
       "==============================================================================\n",
       "Omnibus:                        1.687   Durbin-Watson:                   2.271\n",
       "Prob(Omnibus):                  0.430   Jarque-Bera (JB):                1.169\n",
       "Skew:                           0.232   Prob(JB):                        0.557\n",
       "Kurtosis:                       3.255   Cond. No.                         525.\n",
       "==============================================================================\n",
       "\n",
       "Notes:\n",
       "[1] Standard Errors assume that the covariance matrix of the errors is correctly specified.\n",
       "\"\"\""
      ]
     },
     "execution_count": 13,
     "metadata": {},
     "output_type": "execute_result"
    }
   ],
   "source": [
    "model_reg = sm.OLS(y,X_ols).fit()\n",
    "model_reg.summary()"
   ]
  },
  {
   "cell_type": "code",
   "execution_count": 17,
   "metadata": {},
   "outputs": [],
   "source": [
    "# Now we add some unrelated coefficients\n",
    "x_7 = np.random.uniform(10,40,100)\n",
    "x_8 = np.random.uniform(-50,20,100)\n",
    "x_9 = np.random.uniform(20,60,100)\n",
    "x_10 = np.random.uniform(10,40,100)\n",
    "x_11 = np.random.uniform(-50,20,100)\n",
    "x_12 = np.random.uniform(20,60,100)"
   ]
  },
  {
   "cell_type": "code",
   "execution_count": 18,
   "metadata": {},
   "outputs": [],
   "source": [
    "X_ext = pd.DataFrame()\n",
    "X_ext['Constant']=pd.Series(np.ones(100))\n",
    "X_ext['X1'] = pd.Series(x_1)\n",
    "X_ext['X2'] = pd.Series(x_2)\n",
    "X_ext['X3'] = pd.Series(x_3)\n",
    "X_ext['X4'] = pd.Series(x_4)\n",
    "X_ext['X5'] = pd.Series(x_5)\n",
    "X_ext['X6'] = pd.Series(x_6)\n",
    "X_ext['X7'] = pd.Series(x_7)\n",
    "X_ext['X8'] = pd.Series(x_8)\n",
    "X_ext['X9'] = pd.Series(x_9)\n",
    "X_ext['X10'] = pd.Series(x_10)\n",
    "X_ext['X11'] = pd.Series(x_11)\n",
    "X_ext['X12'] = pd.Series(x_12)"
   ]
  },
  {
   "cell_type": "code",
   "execution_count": 19,
   "metadata": {},
   "outputs": [
    {
     "data": {
      "text/html": [
       "<table class=\"simpletable\">\n",
       "<caption>OLS Regression Results</caption>\n",
       "<tr>\n",
       "  <th>Dep. Variable:</th>            <td>y</td>        <th>  R-squared:         </th> <td>   0.969</td>\n",
       "</tr>\n",
       "<tr>\n",
       "  <th>Model:</th>                   <td>OLS</td>       <th>  Adj. R-squared:    </th> <td>   0.965</td>\n",
       "</tr>\n",
       "<tr>\n",
       "  <th>Method:</th>             <td>Least Squares</td>  <th>  F-statistic:       </th> <td>   226.3</td>\n",
       "</tr>\n",
       "<tr>\n",
       "  <th>Date:</th>             <td>Mon, 02 Oct 2023</td> <th>  Prob (F-statistic):</th> <td>3.92e-60</td>\n",
       "</tr>\n",
       "<tr>\n",
       "  <th>Time:</th>                 <td>19:44:32</td>     <th>  Log-Likelihood:    </th> <td> -369.12</td>\n",
       "</tr>\n",
       "<tr>\n",
       "  <th>No. Observations:</th>      <td>   100</td>      <th>  AIC:               </th> <td>   764.2</td>\n",
       "</tr>\n",
       "<tr>\n",
       "  <th>Df Residuals:</th>          <td>    87</td>      <th>  BIC:               </th> <td>   798.1</td>\n",
       "</tr>\n",
       "<tr>\n",
       "  <th>Df Model:</th>              <td>    12</td>      <th>                     </th>     <td> </td>   \n",
       "</tr>\n",
       "<tr>\n",
       "  <th>Covariance Type:</th>      <td>nonrobust</td>    <th>                     </th>     <td> </td>   \n",
       "</tr>\n",
       "</table>\n",
       "<table class=\"simpletable\">\n",
       "<tr>\n",
       "      <td></td>        <th>coef</th>     <th>std err</th>      <th>t</th>      <th>P>|t|</th>  <th>[0.025</th>    <th>0.975]</th>  \n",
       "</tr>\n",
       "<tr>\n",
       "  <th>Constant</th> <td>  -24.7738</td> <td>    9.929</td> <td>   -2.495</td> <td> 0.014</td> <td>  -44.510</td> <td>   -5.038</td>\n",
       "</tr>\n",
       "<tr>\n",
       "  <th>X1</th>       <td>    1.3515</td> <td>    0.131</td> <td>   10.333</td> <td> 0.000</td> <td>    1.091</td> <td>    1.611</td>\n",
       "</tr>\n",
       "<tr>\n",
       "  <th>X2</th>       <td>    1.5788</td> <td>    0.052</td> <td>   30.545</td> <td> 0.000</td> <td>    1.476</td> <td>    1.682</td>\n",
       "</tr>\n",
       "<tr>\n",
       "  <th>X3</th>       <td>    1.0628</td> <td>    0.096</td> <td>   11.089</td> <td> 0.000</td> <td>    0.872</td> <td>    1.253</td>\n",
       "</tr>\n",
       "<tr>\n",
       "  <th>X4</th>       <td>    0.5762</td> <td>    0.135</td> <td>    4.266</td> <td> 0.000</td> <td>    0.308</td> <td>    0.845</td>\n",
       "</tr>\n",
       "<tr>\n",
       "  <th>X5</th>       <td>   -2.0587</td> <td>    0.056</td> <td>  -36.946</td> <td> 0.000</td> <td>   -2.169</td> <td>   -1.948</td>\n",
       "</tr>\n",
       "<tr>\n",
       "  <th>X6</th>       <td>   -1.0810</td> <td>    0.110</td> <td>   -9.872</td> <td> 0.000</td> <td>   -1.299</td> <td>   -0.863</td>\n",
       "</tr>\n",
       "<tr>\n",
       "  <th>X7</th>       <td>    0.0431</td> <td>    0.130</td> <td>    0.330</td> <td> 0.742</td> <td>   -0.216</td> <td>    0.302</td>\n",
       "</tr>\n",
       "<tr>\n",
       "  <th>X8</th>       <td>    0.0251</td> <td>    0.062</td> <td>    0.406</td> <td> 0.686</td> <td>   -0.098</td> <td>    0.148</td>\n",
       "</tr>\n",
       "<tr>\n",
       "  <th>X9</th>       <td>   -0.0028</td> <td>    0.104</td> <td>   -0.027</td> <td> 0.978</td> <td>   -0.209</td> <td>    0.204</td>\n",
       "</tr>\n",
       "<tr>\n",
       "  <th>X10</th>      <td>   -0.0035</td> <td>    0.122</td> <td>   -0.028</td> <td> 0.977</td> <td>   -0.246</td> <td>    0.239</td>\n",
       "</tr>\n",
       "<tr>\n",
       "  <th>X11</th>      <td>    0.0666</td> <td>    0.062</td> <td>    1.071</td> <td> 0.287</td> <td>   -0.057</td> <td>    0.190</td>\n",
       "</tr>\n",
       "<tr>\n",
       "  <th>X12</th>      <td>    0.1317</td> <td>    0.098</td> <td>    1.341</td> <td> 0.183</td> <td>   -0.063</td> <td>    0.327</td>\n",
       "</tr>\n",
       "</table>\n",
       "<table class=\"simpletable\">\n",
       "<tr>\n",
       "  <th>Omnibus:</th>       <td> 0.959</td> <th>  Durbin-Watson:     </th> <td>   2.213</td>\n",
       "</tr>\n",
       "<tr>\n",
       "  <th>Prob(Omnibus):</th> <td> 0.619</td> <th>  Jarque-Bera (JB):  </th> <td>   0.816</td>\n",
       "</tr>\n",
       "<tr>\n",
       "  <th>Skew:</th>          <td> 0.221</td> <th>  Prob(JB):          </th> <td>   0.665</td>\n",
       "</tr>\n",
       "<tr>\n",
       "  <th>Kurtosis:</th>      <td> 2.964</td> <th>  Cond. No.          </th> <td>    968.</td>\n",
       "</tr>\n",
       "</table><br/><br/>Notes:<br/>[1] Standard Errors assume that the covariance matrix of the errors is correctly specified."
      ],
      "text/latex": [
       "\\begin{center}\n",
       "\\begin{tabular}{lclc}\n",
       "\\toprule\n",
       "\\textbf{Dep. Variable:}    &        y         & \\textbf{  R-squared:         } &     0.969   \\\\\n",
       "\\textbf{Model:}            &       OLS        & \\textbf{  Adj. R-squared:    } &     0.965   \\\\\n",
       "\\textbf{Method:}           &  Least Squares   & \\textbf{  F-statistic:       } &     226.3   \\\\\n",
       "\\textbf{Date:}             & Mon, 02 Oct 2023 & \\textbf{  Prob (F-statistic):} &  3.92e-60   \\\\\n",
       "\\textbf{Time:}             &     19:44:32     & \\textbf{  Log-Likelihood:    } &   -369.12   \\\\\n",
       "\\textbf{No. Observations:} &         100      & \\textbf{  AIC:               } &     764.2   \\\\\n",
       "\\textbf{Df Residuals:}     &          87      & \\textbf{  BIC:               } &     798.1   \\\\\n",
       "\\textbf{Df Model:}         &          12      & \\textbf{                     } &             \\\\\n",
       "\\textbf{Covariance Type:}  &    nonrobust     & \\textbf{                     } &             \\\\\n",
       "\\bottomrule\n",
       "\\end{tabular}\n",
       "\\begin{tabular}{lcccccc}\n",
       "                  & \\textbf{coef} & \\textbf{std err} & \\textbf{t} & \\textbf{P$> |$t$|$} & \\textbf{[0.025} & \\textbf{0.975]}  \\\\\n",
       "\\midrule\n",
       "\\textbf{Constant} &     -24.7738  &        9.929     &    -2.495  &         0.014        &      -44.510    &       -5.038     \\\\\n",
       "\\textbf{X1}       &       1.3515  &        0.131     &    10.333  &         0.000        &        1.091    &        1.611     \\\\\n",
       "\\textbf{X2}       &       1.5788  &        0.052     &    30.545  &         0.000        &        1.476    &        1.682     \\\\\n",
       "\\textbf{X3}       &       1.0628  &        0.096     &    11.089  &         0.000        &        0.872    &        1.253     \\\\\n",
       "\\textbf{X4}       &       0.5762  &        0.135     &     4.266  &         0.000        &        0.308    &        0.845     \\\\\n",
       "\\textbf{X5}       &      -2.0587  &        0.056     &   -36.946  &         0.000        &       -2.169    &       -1.948     \\\\\n",
       "\\textbf{X6}       &      -1.0810  &        0.110     &    -9.872  &         0.000        &       -1.299    &       -0.863     \\\\\n",
       "\\textbf{X7}       &       0.0431  &        0.130     &     0.330  &         0.742        &       -0.216    &        0.302     \\\\\n",
       "\\textbf{X8}       &       0.0251  &        0.062     &     0.406  &         0.686        &       -0.098    &        0.148     \\\\\n",
       "\\textbf{X9}       &      -0.0028  &        0.104     &    -0.027  &         0.978        &       -0.209    &        0.204     \\\\\n",
       "\\textbf{X10}      &      -0.0035  &        0.122     &    -0.028  &         0.977        &       -0.246    &        0.239     \\\\\n",
       "\\textbf{X11}      &       0.0666  &        0.062     &     1.071  &         0.287        &       -0.057    &        0.190     \\\\\n",
       "\\textbf{X12}      &       0.1317  &        0.098     &     1.341  &         0.183        &       -0.063    &        0.327     \\\\\n",
       "\\bottomrule\n",
       "\\end{tabular}\n",
       "\\begin{tabular}{lclc}\n",
       "\\textbf{Omnibus:}       &  0.959 & \\textbf{  Durbin-Watson:     } &    2.213  \\\\\n",
       "\\textbf{Prob(Omnibus):} &  0.619 & \\textbf{  Jarque-Bera (JB):  } &    0.816  \\\\\n",
       "\\textbf{Skew:}          &  0.221 & \\textbf{  Prob(JB):          } &    0.665  \\\\\n",
       "\\textbf{Kurtosis:}      &  2.964 & \\textbf{  Cond. No.          } &     968.  \\\\\n",
       "\\bottomrule\n",
       "\\end{tabular}\n",
       "%\\caption{OLS Regression Results}\n",
       "\\end{center}\n",
       "\n",
       "Notes: \\newline\n",
       " [1] Standard Errors assume that the covariance matrix of the errors is correctly specified."
      ],
      "text/plain": [
       "<class 'statsmodels.iolib.summary.Summary'>\n",
       "\"\"\"\n",
       "                            OLS Regression Results                            \n",
       "==============================================================================\n",
       "Dep. Variable:                      y   R-squared:                       0.969\n",
       "Model:                            OLS   Adj. R-squared:                  0.965\n",
       "Method:                 Least Squares   F-statistic:                     226.3\n",
       "Date:                Mon, 02 Oct 2023   Prob (F-statistic):           3.92e-60\n",
       "Time:                        19:44:32   Log-Likelihood:                -369.12\n",
       "No. Observations:                 100   AIC:                             764.2\n",
       "Df Residuals:                      87   BIC:                             798.1\n",
       "Df Model:                          12                                         \n",
       "Covariance Type:            nonrobust                                         \n",
       "==============================================================================\n",
       "                 coef    std err          t      P>|t|      [0.025      0.975]\n",
       "------------------------------------------------------------------------------\n",
       "Constant     -24.7738      9.929     -2.495      0.014     -44.510      -5.038\n",
       "X1             1.3515      0.131     10.333      0.000       1.091       1.611\n",
       "X2             1.5788      0.052     30.545      0.000       1.476       1.682\n",
       "X3             1.0628      0.096     11.089      0.000       0.872       1.253\n",
       "X4             0.5762      0.135      4.266      0.000       0.308       0.845\n",
       "X5            -2.0587      0.056    -36.946      0.000      -2.169      -1.948\n",
       "X6            -1.0810      0.110     -9.872      0.000      -1.299      -0.863\n",
       "X7             0.0431      0.130      0.330      0.742      -0.216       0.302\n",
       "X8             0.0251      0.062      0.406      0.686      -0.098       0.148\n",
       "X9            -0.0028      0.104     -0.027      0.978      -0.209       0.204\n",
       "X10           -0.0035      0.122     -0.028      0.977      -0.246       0.239\n",
       "X11            0.0666      0.062      1.071      0.287      -0.057       0.190\n",
       "X12            0.1317      0.098      1.341      0.183      -0.063       0.327\n",
       "==============================================================================\n",
       "Omnibus:                        0.959   Durbin-Watson:                   2.213\n",
       "Prob(Omnibus):                  0.619   Jarque-Bera (JB):                0.816\n",
       "Skew:                           0.221   Prob(JB):                        0.665\n",
       "Kurtosis:                       2.964   Cond. No.                         968.\n",
       "==============================================================================\n",
       "\n",
       "Notes:\n",
       "[1] Standard Errors assume that the covariance matrix of the errors is correctly specified.\n",
       "\"\"\""
      ]
     },
     "execution_count": 19,
     "metadata": {},
     "output_type": "execute_result"
    }
   ],
   "source": [
    "model_reg = sm.OLS(y,X_ext).fit()\n",
    "model_reg.summary()"
   ]
  },
  {
   "cell_type": "code",
   "execution_count": 20,
   "metadata": {},
   "outputs": [
    {
     "name": "stderr",
     "output_type": "stream",
     "text": [
      "C:\\Users\\srika\\AppData\\Local\\Packages\\PythonSoftwareFoundation.Python.3.11_qbz5n2kfra8p0\\LocalCache\\local-packages\\Python311\\site-packages\\sklearn\\utils\\validation.py:757: FutureWarning: is_sparse is deprecated and will be removed in a future version. Check `isinstance(dtype, pd.SparseDtype)` instead.\n",
      "  if not hasattr(array, \"sparse\") and array.dtypes.apply(is_sparse).any():\n",
      "C:\\Users\\srika\\AppData\\Local\\Packages\\PythonSoftwareFoundation.Python.3.11_qbz5n2kfra8p0\\LocalCache\\local-packages\\Python311\\site-packages\\sklearn\\utils\\validation.py:595: FutureWarning: is_sparse is deprecated and will be removed in a future version. Check `isinstance(dtype, pd.SparseDtype)` instead.\n",
      "  if is_sparse(pd_dtype):\n",
      "C:\\Users\\srika\\AppData\\Local\\Packages\\PythonSoftwareFoundation.Python.3.11_qbz5n2kfra8p0\\LocalCache\\local-packages\\Python311\\site-packages\\sklearn\\utils\\validation.py:604: FutureWarning: is_sparse is deprecated and will be removed in a future version. Check `isinstance(dtype, pd.SparseDtype)` instead.\n",
      "  if is_sparse(pd_dtype) or not is_extension_array_dtype(pd_dtype):\n"
     ]
    },
    {
     "data": {
      "text/plain": [
       "array([ 1.33437814,  1.5759699 ,  1.05149651,  0.56556888, -2.05620864,\n",
       "       -1.0700877 ,  0.02725334,  0.02226372, -0.        ,  0.        ,\n",
       "        0.06687765,  0.12694334])"
      ]
     },
     "execution_count": 20,
     "metadata": {},
     "output_type": "execute_result"
    }
   ],
   "source": [
    "# When we input the matrix, we don't need to add the column of ones because \\\n",
    "# Lasso automatically takes it into account\n",
    "\n",
    "X_ext = X_ext.drop(columns=['Constant'])\n",
    "model_lasso = lm.Lasso(alpha=1).fit(X_ext,y)\n",
    "model_lasso.coef_"
   ]
  },
  {
   "cell_type": "code",
   "execution_count": 21,
   "metadata": {},
   "outputs": [
    {
     "name": "stderr",
     "output_type": "stream",
     "text": [
      "C:\\Users\\srika\\AppData\\Local\\Packages\\PythonSoftwareFoundation.Python.3.11_qbz5n2kfra8p0\\LocalCache\\local-packages\\Python311\\site-packages\\sklearn\\utils\\validation.py:757: FutureWarning: is_sparse is deprecated and will be removed in a future version. Check `isinstance(dtype, pd.SparseDtype)` instead.\n",
      "  if not hasattr(array, \"sparse\") and array.dtypes.apply(is_sparse).any():\n",
      "C:\\Users\\srika\\AppData\\Local\\Packages\\PythonSoftwareFoundation.Python.3.11_qbz5n2kfra8p0\\LocalCache\\local-packages\\Python311\\site-packages\\sklearn\\utils\\validation.py:595: FutureWarning: is_sparse is deprecated and will be removed in a future version. Check `isinstance(dtype, pd.SparseDtype)` instead.\n",
      "  if is_sparse(pd_dtype):\n",
      "C:\\Users\\srika\\AppData\\Local\\Packages\\PythonSoftwareFoundation.Python.3.11_qbz5n2kfra8p0\\LocalCache\\local-packages\\Python311\\site-packages\\sklearn\\utils\\validation.py:604: FutureWarning: is_sparse is deprecated and will be removed in a future version. Check `isinstance(dtype, pd.SparseDtype)` instead.\n",
      "  if is_sparse(pd_dtype) or not is_extension_array_dtype(pd_dtype):\n"
     ]
    },
    {
     "data": {
      "text/plain": [
       "array([ 1.16889948,  1.55158268,  0.95732435,  0.46688342, -2.02880222,\n",
       "       -0.97236667,  0.        ,  0.00302791, -0.        ,  0.        ,\n",
       "        0.07977514,  0.08072208])"
      ]
     },
     "execution_count": 21,
     "metadata": {},
     "output_type": "execute_result"
    }
   ],
   "source": [
    "model_lasso = lm.Lasso(alpha=10).fit(X_ext,y)\n",
    "model_lasso.coef_"
   ]
  },
  {
   "cell_type": "code",
   "execution_count": 22,
   "metadata": {},
   "outputs": [
    {
     "name": "stderr",
     "output_type": "stream",
     "text": [
      "C:\\Users\\srika\\AppData\\Local\\Packages\\PythonSoftwareFoundation.Python.3.11_qbz5n2kfra8p0\\LocalCache\\local-packages\\Python311\\site-packages\\sklearn\\utils\\validation.py:757: FutureWarning: is_sparse is deprecated and will be removed in a future version. Check `isinstance(dtype, pd.SparseDtype)` instead.\n",
      "  if not hasattr(array, \"sparse\") and array.dtypes.apply(is_sparse).any():\n",
      "C:\\Users\\srika\\AppData\\Local\\Packages\\PythonSoftwareFoundation.Python.3.11_qbz5n2kfra8p0\\LocalCache\\local-packages\\Python311\\site-packages\\sklearn\\utils\\validation.py:595: FutureWarning: is_sparse is deprecated and will be removed in a future version. Check `isinstance(dtype, pd.SparseDtype)` instead.\n",
      "  if is_sparse(pd_dtype):\n",
      "C:\\Users\\srika\\AppData\\Local\\Packages\\PythonSoftwareFoundation.Python.3.11_qbz5n2kfra8p0\\LocalCache\\local-packages\\Python311\\site-packages\\sklearn\\utils\\validation.py:604: FutureWarning: is_sparse is deprecated and will be removed in a future version. Check `isinstance(dtype, pd.SparseDtype)` instead.\n",
      "  if is_sparse(pd_dtype) or not is_extension_array_dtype(pd_dtype):\n"
     ]
    },
    {
     "data": {
      "text/plain": [
       "array([ 1.34875281,  1.57828501,  1.06151761,  0.57539494, -2.05809587,\n",
       "       -1.07964289,  0.04321435,  0.02513787, -0.00316196, -0.00325081,\n",
       "        0.06704306,  0.13176969])"
      ]
     },
     "execution_count": 22,
     "metadata": {},
     "output_type": "execute_result"
    }
   ],
   "source": [
    "# We now apply Ridge Regression to our data\n",
    "\n",
    "model_ridge = lm.Ridge(alpha=10).fit(X_ext,y)\n",
    "model_ridge.coef_"
   ]
  },
  {
   "cell_type": "code",
   "execution_count": 23,
   "metadata": {},
   "outputs": [
    {
     "name": "stderr",
     "output_type": "stream",
     "text": [
      "C:\\Users\\srika\\AppData\\Local\\Packages\\PythonSoftwareFoundation.Python.3.11_qbz5n2kfra8p0\\LocalCache\\local-packages\\Python311\\site-packages\\sklearn\\utils\\validation.py:757: FutureWarning: is_sparse is deprecated and will be removed in a future version. Check `isinstance(dtype, pd.SparseDtype)` instead.\n",
      "  if not hasattr(array, \"sparse\") and array.dtypes.apply(is_sparse).any():\n",
      "C:\\Users\\srika\\AppData\\Local\\Packages\\PythonSoftwareFoundation.Python.3.11_qbz5n2kfra8p0\\LocalCache\\local-packages\\Python311\\site-packages\\sklearn\\utils\\validation.py:595: FutureWarning: is_sparse is deprecated and will be removed in a future version. Check `isinstance(dtype, pd.SparseDtype)` instead.\n",
      "  if is_sparse(pd_dtype):\n",
      "C:\\Users\\srika\\AppData\\Local\\Packages\\PythonSoftwareFoundation.Python.3.11_qbz5n2kfra8p0\\LocalCache\\local-packages\\Python311\\site-packages\\sklearn\\utils\\validation.py:604: FutureWarning: is_sparse is deprecated and will be removed in a future version. Check `isinstance(dtype, pd.SparseDtype)` instead.\n",
      "  if is_sparse(pd_dtype) or not is_extension_array_dtype(pd_dtype):\n"
     ]
    },
    {
     "data": {
      "text/plain": [
       "array([ 0.39748852,  1.24060579,  0.48395281,  0.2742768 , -1.59866158,\n",
       "       -0.53542535,  0.03788897,  0.04942403, -0.05586432,  0.0040514 ,\n",
       "        0.20899744,  0.12898429])"
      ]
     },
     "execution_count": 23,
     "metadata": {},
     "output_type": "execute_result"
    }
   ],
   "source": [
    "model_ridge = lm.Ridge(alpha=10000).fit(X_ext,y)\n",
    "model_ridge.coef_"
   ]
  },
  {
   "cell_type": "markdown",
   "metadata": {},
   "source": [
    "Lasso is used for  causality analysis.<br>\n",
    "Rigge is used when the model is not amble to predict and it needs more predictive power.<br>\n",
    "cos it includes all the features.<br>\n",
    "ridge - predctiion accuracy<br>\n",
    "lasso - causality<br>\n",
    "<br>"
   ]
  },
  {
   "cell_type": "code",
   "execution_count": 54,
   "metadata": {},
   "outputs": [],
   "source": [
    "import warnings\n",
    "warnings.filterwarnings('ignore')"
   ]
  },
  {
   "cell_type": "code",
   "execution_count": 58,
   "metadata": {},
   "outputs": [
    {
     "data": {
      "image/png": "[encoded data removed]",
      "text/plain": [
       "<Figure size 640x480 with 1 Axes>"
      ]
     },
     "metadata": {},
     "output_type": "display_data"
    }
   ],
   "source": [
    "# mean avagarege deviation\n",
    "y_est = model_lasso.predict(X_ext)\n",
    "mad = np.mean(np.abs(y_est-y))\n",
    "mad_data = []\n",
    "for i in [0.1,0.2,0.3,0.4,0.5,0.6,0.7,0.8,0.9,1,1.8,1.9,2,2.1,2.2,2.3,2.4,2.5,2.6,2.7,2.8,2.9,3,4,5,6,7,8,9,10]:\n",
    "    model_ridge = lm.Lasso(alpha=i).fit(X_ext,y)\n",
    "    y_est = model_ridge.predict(X_ext)\n",
    "    mad = np.mean(np.abs(y_est-y))\n",
    "    mad_data.append([i,mad])\n",
    "mad_data = pd.DataFrame(mad_data)\n",
    "mad_data.columns = ['alpha','mad']\n",
    "# sns.scatterplot(x=mad_data[:,0],y=mad_data[:,1])\n",
    "plt.plot(mad_data['alpha'],mad_data['mad'])\n",
    "plt.axhline(y=mad_data['mad'].min(),color='r')\n",
    "plt.show()\n",
    "    "
   ]
  },
  {
   "cell_type": "markdown",
   "metadata": {},
   "source": [
    "check for web access . user name and password in the book.m\n",
    "    "
   ]
  },
  {
   "cell_type": "markdown",
   "metadata": {},
   "source": []
  }
 ],
 "metadata": {
  "kernelspec": {
   "display_name": "Python 3",
   "language": "python",
   "name": "python3"
  },
  "language_info": {
   "codemirror_mode": {
    "name": "ipython",
    "version": 3
   },
   "file_extension": ".py",
   "mimetype": "text/x-python",
   "name": "python",
   "nbconvert_exporter": "python",
   "pygments_lexer": "ipython3",
   "version": "3.11.5"
  },
  "orig_nbformat": 4
 },
 "nbformat": 4,
 "nbformat_minor": 2
}
