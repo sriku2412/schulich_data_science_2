{
  "nbformat": 4,
  "nbformat_minor": 0,
  "metadata": {
    "colab": {
      "provenance": [],
      "authorship_tag": "ABX9TyNbjgdzyXT9+jMACUI/m/c7",
      "include_colab_link": true
    },
    "kernelspec": {
      "name": "python3",
      "display_name": "Python 3"
    },
    "language_info": {
      "name": "python"
    }
  },
  "cells": [
    {
      "cell_type": "markdown",
      "metadata": {
        "id": "view-in-github",
        "colab_type": "text"
      },
      "source": [
        "<a href=\"https://colab.research.google.com/github/sriku2412/schulich_data_science_2/blob/main/webscrape.ipynb\" target=\"_parent\"><img src=\"https://colab.research.google.com/assets/colab-badge.svg\" alt=\"Open In Colab\"/></a>"
      ]
    },
    {
      "cell_type": "code",
      "execution_count": null,
      "metadata": {
        "id": "GvpVldEXiihB"
      },
      "outputs": [],
      "source": [
        "import requests\n",
        "import csv\n",
        "from bs4 import BeautifulSoup\n",
        "import pandas as pd\n",
        "\n",
        "def fetch_data(base_url: str, total_pages: int, endpoint: str, headers: dict = {}) -> list:\n",
        "    data_list = []\n",
        "    for page_number in range(total_pages + 1):\n",
        "        api_url = f\"{base_url}{page_number}{endpoint}\"\n",
        "        response = requests.get(api_url, headers=headers)\n",
        "        if response.status_code == 200:\n",
        "            data = response.json()\n",
        "            data_list.extend(data.get(\"hits\", []))\n",
        "        else:\n",
        "            print(f\"Error: Unable to fetch data for page {page_number} (Status Code: {response.status_code})\")\n",
        "    return data_list\n",
        "\n",
        "def save_to_csv(data: list, headers: list, filename: str) -> None:\n",
        "    with open(filename, mode='w', newline='', encoding='utf-8') as file:\n",
        "        writer = csv.writer(file)\n",
        "        writer.writerow(headers)\n",
        "        writer.writerows(data)\n",
        "\n",
        "def main():\n",
        "    base_url = \"https://www1.communitech.ca/api/search/companies?networkId=628&hitsPerPage=12&page=\"\n",
        "    total_company_pages = 140\n",
        "    company_data = fetch_data(base_url, total_company_pages, \"\")\n",
        "    company_headers = [\"name\", \"description\", \"locations\", \"logo_url\", \"topics\", \"industry_tags\", \"stage\", \"head_count\", \"active_jobs_count\"]\n",
        "    save_to_csv(company_data, company_headers, 'companies.csv')\n",
        "\n",
        "    base_url = \"https://www1.communitech.ca/api/search/jobs?networkId=628&hitsPerPage=20&page=\"\n",
        "    total_job_pages = 298\n",
        "    job_data = fetch_data(base_url, total_job_pages, \"&filters=&query=\")\n",
        "    job_headers = [\"created_at\", \"locations\", \"organization_id\", \"organization_name\", \"organization_logo_url\", \"organization_slug\", \"organization_topics\", \"organization_industry_tags\", \"organization_stage\", \"organization_head_count\", \"source\", \"slug\", \"title\", \"url\", \"featured\", \"has_description\"]\n",
        "    save_to_csv(job_data, job_headers, 'jobs.csv')\n",
        "\n",
        "    jobs = pd.read_csv(\"jobs.csv\")\n",
        "    jobs.columns = ['created_at', 'locations', 'organization_id', 'organization_name', 'organization_logo_url', 'organization_slug', 'organization_topics', 'organization_industry_tags', 'organization_stage', 'organization_head_count', 'source', 'slug', 'title', 'url', 'featured', 'has_description']\n",
        "    jobs['url'] = 'https://www1.communitech.ca/companies/' + jobs['organization_slug'] + '/jobs/' + jobs['slug'] + '#content'\n",
        "    jobs = jobs.drop_duplicates()\n",
        "    jobs = jobs[jobs['has_description'] == True]\n",
        "    jobs = jobs[['organization_name', 'title', 'locations', 'organization_topics', 'organization_industry_tags', 'url', 'has_description']]\n",
        "\n",
        "    for idx, url in enumerate(jobs['url']):\n",
        "        response = requests.get(url)\n",
        "        html_content = response.text\n",
        "        soup = BeautifulSoup(html_content, 'html.parser')\n",
        "        career_page_div = soup.find('div', {'data-testid': 'careerPage'})\n",
        "        jobs.at[idx, 'description'] = str(career_page_div) if career_page_div else ''\n",
        "\n",
        "    jobs.to_csv('jobs_info.csv', index=False)\n",
        "\n",
        "if __name__ == \"__main__\":\n",
        "    main()"
      ]
    }
  ]
}