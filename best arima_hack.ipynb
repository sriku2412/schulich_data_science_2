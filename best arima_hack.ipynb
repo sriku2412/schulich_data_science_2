{
 "cells": [
  {
   "cell_type": "code",
   "execution_count": null,
   "metadata": {},
   "outputs": [],
   "source": [
    "# find the best value for ARIMA model\n",
    "\n",
    "import itertools\n",
    "\n",
    "p=d=q=range (0,5)\n",
    "pdq = list(itertools.product(p,d,q))\n",
    "\n",
    "for param in pdq:\n",
    "    try:\n",
    "        model_arima = sm.tsa.arima.ARIMA(us2,order=param)\n",
    "        model_arima_fit = model_arima.fit()\n",
    "        print(param,model_arima_fit.aic)\n",
    "    except:\n",
    "        continue\n",
    "    "
   ]
  }
 ],
 "metadata": {
  "kernelspec": {
   "display_name": "Python 3",
   "language": "python",
   "name": "python3"
  },
  "language_info": {
   "name": "python",
   "version": "3.12.0"
  }
 },
 "nbformat": 4,
 "nbformat_minor": 2
}
